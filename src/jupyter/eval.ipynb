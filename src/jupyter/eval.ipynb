{
 "cells": [
  {
   "cell_type": "code",
   "execution_count": 2,
   "id": "55496c17-98ea-47a5-a937-b5dc01361cb3",
   "metadata": {},
   "outputs": [],
   "source": [
    "import os\n",
    "os.chdir(os.path.join(os.getcwd(), '..'))"
   ]
  },
  {
   "cell_type": "code",
   "execution_count": 4,
   "id": "9a2d37a1-8d9a-49cc-a6ac-502c1d773154",
   "metadata": {},
   "outputs": [
    {
     "data": {
      "text/html": [
       "<div>\n",
       "<style scoped>\n",
       "    .dataframe tbody tr th:only-of-type {\n",
       "        vertical-align: middle;\n",
       "    }\n",
       "\n",
       "    .dataframe tbody tr th {\n",
       "        vertical-align: top;\n",
       "    }\n",
       "\n",
       "    .dataframe thead th {\n",
       "        text-align: right;\n",
       "    }\n",
       "</style>\n",
       "<table border=\"1\" class=\"dataframe\">\n",
       "  <thead>\n",
       "    <tr style=\"text-align: right;\">\n",
       "      <th></th>\n",
       "      <th>filename_h5</th>\n",
       "      <th>1_start</th>\n",
       "      <th>1_end</th>\n",
       "      <th>2_start</th>\n",
       "      <th>2_end</th>\n",
       "      <th>3_start</th>\n",
       "      <th>3_end</th>\n",
       "      <th>4_start</th>\n",
       "      <th>4_end</th>\n",
       "      <th>calibrationiapf_start</th>\n",
       "      <th>calibrationiapf_end</th>\n",
       "      <th>calibrationbaseline_start</th>\n",
       "      <th>calibrationbaseline_end</th>\n",
       "      <th>serial</th>\n",
       "      <th>start_utc</th>\n",
       "      <th>end_utc</th>\n",
       "      <th>exp</th>\n",
       "      <th>5_start</th>\n",
       "      <th>5_end</th>\n",
       "    </tr>\n",
       "  </thead>\n",
       "  <tbody>\n",
       "    <tr>\n",
       "      <th>0</th>\n",
       "      <td>1_17.10_Вячеслав</td>\n",
       "      <td>1697541168922729</td>\n",
       "      <td>1697541472316547</td>\n",
       "      <td>1697541519227488</td>\n",
       "      <td>1697542311524396</td>\n",
       "      <td>1697542373530698</td>\n",
       "      <td>1697543297739858</td>\n",
       "      <td>1697543367044571</td>\n",
       "      <td>1697543674306510</td>\n",
       "      <td>1697541081846589</td>\n",
       "      <td>1697541111894754</td>\n",
       "      <td>1697541119436945</td>\n",
       "      <td>1697541156236309</td>\n",
       "      <td>820049</td>\n",
       "      <td>1.697541e+15</td>\n",
       "      <td>1.697544e+15</td>\n",
       "      <td>1</td>\n",
       "      <td>NaN</td>\n",
       "      <td>NaN</td>\n",
       "    </tr>\n",
       "    <tr>\n",
       "      <th>1</th>\n",
       "      <td>1_24.10_Иван</td>\n",
       "      <td>1698133841634532</td>\n",
       "      <td>1698134155225199</td>\n",
       "      <td>1698134228333235</td>\n",
       "      <td>1698135062335461</td>\n",
       "      <td>1698135108213685</td>\n",
       "      <td>1698136045505583</td>\n",
       "      <td>1698136063186370</td>\n",
       "      <td>1698136409357649</td>\n",
       "      <td>1698133732265839</td>\n",
       "      <td>1698133762385003</td>\n",
       "      <td>1698133769198769</td>\n",
       "      <td>1698133807275470</td>\n",
       "      <td>820049</td>\n",
       "      <td>1.698133e+15</td>\n",
       "      <td>1.698136e+15</td>\n",
       "      <td>1</td>\n",
       "      <td>NaN</td>\n",
       "      <td>NaN</td>\n",
       "    </tr>\n",
       "    <tr>\n",
       "      <th>2</th>\n",
       "      <td>1_26.10_Тамирлан</td>\n",
       "      <td>1698331242662479</td>\n",
       "      <td>1698331506349676</td>\n",
       "      <td>1698331578550598</td>\n",
       "      <td>1698332383643063</td>\n",
       "      <td>1698332450374903</td>\n",
       "      <td>1698333079999870</td>\n",
       "      <td>1698333109630452</td>\n",
       "      <td>1698333433867331</td>\n",
       "      <td>1698331105603392</td>\n",
       "      <td>1698331135778404</td>\n",
       "      <td>1698331140728236</td>\n",
       "      <td>1698331177960215</td>\n",
       "      <td>820049</td>\n",
       "      <td>1.698331e+15</td>\n",
       "      <td>1.698333e+15</td>\n",
       "      <td>1</td>\n",
       "      <td>NaN</td>\n",
       "      <td>NaN</td>\n",
       "    </tr>\n",
       "    <tr>\n",
       "      <th>3</th>\n",
       "      <td>1_17.10_Дарья</td>\n",
       "      <td>1697547246604420</td>\n",
       "      <td>1697547525895814</td>\n",
       "      <td>1697547579720206</td>\n",
       "      <td>1697548384437192</td>\n",
       "      <td>1697548424984544</td>\n",
       "      <td>1697549057179910</td>\n",
       "      <td>1697549108934938</td>\n",
       "      <td>1697549426388998</td>\n",
       "      <td>1697547151490835</td>\n",
       "      <td>1697547181562859</td>\n",
       "      <td>1697547184872435</td>\n",
       "      <td>1697547222484947</td>\n",
       "      <td>820049</td>\n",
       "      <td>1.697546e+15</td>\n",
       "      <td>1.697549e+15</td>\n",
       "      <td>1</td>\n",
       "      <td>NaN</td>\n",
       "      <td>NaN</td>\n",
       "    </tr>\n",
       "    <tr>\n",
       "      <th>4</th>\n",
       "      <td>1_19.10_Жасмина</td>\n",
       "      <td>1697717666041936</td>\n",
       "      <td>1697717978952485</td>\n",
       "      <td>1697718049367329</td>\n",
       "      <td>1697718867467382</td>\n",
       "      <td>1697719071425005</td>\n",
       "      <td>1697720025398443</td>\n",
       "      <td>1697720063078421</td>\n",
       "      <td>1697720374951540</td>\n",
       "      <td>1697717561398617</td>\n",
       "      <td>1697717591451679</td>\n",
       "      <td>1697717603399601</td>\n",
       "      <td>1697717641071340</td>\n",
       "      <td>820049</td>\n",
       "      <td>1.697717e+15</td>\n",
       "      <td>1.697720e+15</td>\n",
       "      <td>1</td>\n",
       "      <td>NaN</td>\n",
       "      <td>NaN</td>\n",
       "    </tr>\n",
       "    <tr>\n",
       "      <th>...</th>\n",
       "      <td>...</td>\n",
       "      <td>...</td>\n",
       "      <td>...</td>\n",
       "      <td>...</td>\n",
       "      <td>...</td>\n",
       "      <td>...</td>\n",
       "      <td>...</td>\n",
       "      <td>...</td>\n",
       "      <td>...</td>\n",
       "      <td>...</td>\n",
       "      <td>...</td>\n",
       "      <td>...</td>\n",
       "      <td>...</td>\n",
       "      <td>...</td>\n",
       "      <td>...</td>\n",
       "      <td>...</td>\n",
       "      <td>...</td>\n",
       "      <td>...</td>\n",
       "      <td>...</td>\n",
       "    </tr>\n",
       "    <tr>\n",
       "      <th>61</th>\n",
       "      <td>3_27.11_Татьяна</td>\n",
       "      <td>1701070747806313</td>\n",
       "      <td>1701071052476251</td>\n",
       "      <td>1701071223996728</td>\n",
       "      <td>1701072956137994</td>\n",
       "      <td>1701073024979561</td>\n",
       "      <td>1701074779216708</td>\n",
       "      <td>1701074862758601</td>\n",
       "      <td>1701076620463455</td>\n",
       "      <td>1701070606883831</td>\n",
       "      <td>1701070636939139</td>\n",
       "      <td>1701070658666029</td>\n",
       "      <td>1701070695494174</td>\n",
       "      <td>820049</td>\n",
       "      <td>1.701070e+15</td>\n",
       "      <td>1.701077e+15</td>\n",
       "      <td>3</td>\n",
       "      <td>1.701077e+15</td>\n",
       "      <td>1.701077e+15</td>\n",
       "    </tr>\n",
       "    <tr>\n",
       "      <th>62</th>\n",
       "      <td>3_09.11_Дарья</td>\n",
       "      <td>1699526603550185</td>\n",
       "      <td>1699526899387358</td>\n",
       "      <td>1699527038578084</td>\n",
       "      <td>1699528798860474</td>\n",
       "      <td>1699528851522459</td>\n",
       "      <td>1699530637140293</td>\n",
       "      <td>1699530703555478</td>\n",
       "      <td>1699532456289465</td>\n",
       "      <td>1699526515924223</td>\n",
       "      <td>1699526546032073</td>\n",
       "      <td>1699526552715826</td>\n",
       "      <td>1699526588925301</td>\n",
       "      <td>820049</td>\n",
       "      <td>1.699526e+15</td>\n",
       "      <td>1.699533e+15</td>\n",
       "      <td>3</td>\n",
       "      <td>NaN</td>\n",
       "      <td>NaN</td>\n",
       "    </tr>\n",
       "    <tr>\n",
       "      <th>63</th>\n",
       "      <td>3_17.11_Жасмина</td>\n",
       "      <td>1700207228665973</td>\n",
       "      <td>1700207538730477</td>\n",
       "      <td>1700207653170896</td>\n",
       "      <td>1700209439294088</td>\n",
       "      <td>1700209471419240</td>\n",
       "      <td>1700211273505841</td>\n",
       "      <td>1700211326130152</td>\n",
       "      <td>1700213167336964</td>\n",
       "      <td>1700207023664163</td>\n",
       "      <td>1700207053664826</td>\n",
       "      <td>1700207060512127</td>\n",
       "      <td>1700207106099488</td>\n",
       "      <td>820049</td>\n",
       "      <td>1.700207e+15</td>\n",
       "      <td>1.700214e+15</td>\n",
       "      <td>3</td>\n",
       "      <td>1.700213e+15</td>\n",
       "      <td>1.700214e+15</td>\n",
       "    </tr>\n",
       "    <tr>\n",
       "      <th>64</th>\n",
       "      <td>3_27.11_Мария</td>\n",
       "      <td>1701089007243282</td>\n",
       "      <td>1701089310609342</td>\n",
       "      <td>1701089391809473</td>\n",
       "      <td>1701091127320115</td>\n",
       "      <td>1701091175850591</td>\n",
       "      <td>1701092944441097</td>\n",
       "      <td>1701093057690441</td>\n",
       "      <td>1701094842676442</td>\n",
       "      <td>1701088892891631</td>\n",
       "      <td>1701088922997897</td>\n",
       "      <td>1701088927956120</td>\n",
       "      <td>1701088966012866</td>\n",
       "      <td>820049</td>\n",
       "      <td>1.701089e+15</td>\n",
       "      <td>1.701095e+15</td>\n",
       "      <td>3</td>\n",
       "      <td>1.701095e+15</td>\n",
       "      <td>1.701095e+15</td>\n",
       "    </tr>\n",
       "    <tr>\n",
       "      <th>65</th>\n",
       "      <td>3_15.11_Александр</td>\n",
       "      <td>1700037692465365</td>\n",
       "      <td>1700037999073383</td>\n",
       "      <td>1700038080503636</td>\n",
       "      <td>1700039799444100</td>\n",
       "      <td>1700039858336173</td>\n",
       "      <td>1700041598736281</td>\n",
       "      <td>1700041656062603</td>\n",
       "      <td>1700043449346075</td>\n",
       "      <td>1700037588335488</td>\n",
       "      <td>1700037618400474</td>\n",
       "      <td>1700037623147297</td>\n",
       "      <td>1700037660522359</td>\n",
       "      <td>820049</td>\n",
       "      <td>1.700038e+15</td>\n",
       "      <td>1.700044e+15</td>\n",
       "      <td>3</td>\n",
       "      <td>1.700043e+15</td>\n",
       "      <td>1.700044e+15</td>\n",
       "    </tr>\n",
       "  </tbody>\n",
       "</table>\n",
       "<p>66 rows × 19 columns</p>\n",
       "</div>"
      ],
      "text/plain": [
       "          filename_h5           1_start             1_end           2_start  \\\n",
       "0    1_17.10_Вячеслав  1697541168922729  1697541472316547  1697541519227488   \n",
       "1        1_24.10_Иван  1698133841634532  1698134155225199  1698134228333235   \n",
       "2    1_26.10_Тамирлан  1698331242662479  1698331506349676  1698331578550598   \n",
       "3       1_17.10_Дарья  1697547246604420  1697547525895814  1697547579720206   \n",
       "4     1_19.10_Жасмина  1697717666041936  1697717978952485  1697718049367329   \n",
       "..                ...               ...               ...               ...   \n",
       "61    3_27.11_Татьяна  1701070747806313  1701071052476251  1701071223996728   \n",
       "62      3_09.11_Дарья  1699526603550185  1699526899387358  1699527038578084   \n",
       "63    3_17.11_Жасмина  1700207228665973  1700207538730477  1700207653170896   \n",
       "64      3_27.11_Мария  1701089007243282  1701089310609342  1701089391809473   \n",
       "65  3_15.11_Александр  1700037692465365  1700037999073383  1700038080503636   \n",
       "\n",
       "               2_end           3_start             3_end           4_start  \\\n",
       "0   1697542311524396  1697542373530698  1697543297739858  1697543367044571   \n",
       "1   1698135062335461  1698135108213685  1698136045505583  1698136063186370   \n",
       "2   1698332383643063  1698332450374903  1698333079999870  1698333109630452   \n",
       "3   1697548384437192  1697548424984544  1697549057179910  1697549108934938   \n",
       "4   1697718867467382  1697719071425005  1697720025398443  1697720063078421   \n",
       "..               ...               ...               ...               ...   \n",
       "61  1701072956137994  1701073024979561  1701074779216708  1701074862758601   \n",
       "62  1699528798860474  1699528851522459  1699530637140293  1699530703555478   \n",
       "63  1700209439294088  1700209471419240  1700211273505841  1700211326130152   \n",
       "64  1701091127320115  1701091175850591  1701092944441097  1701093057690441   \n",
       "65  1700039799444100  1700039858336173  1700041598736281  1700041656062603   \n",
       "\n",
       "               4_end  calibrationiapf_start  calibrationiapf_end  \\\n",
       "0   1697543674306510       1697541081846589     1697541111894754   \n",
       "1   1698136409357649       1698133732265839     1698133762385003   \n",
       "2   1698333433867331       1698331105603392     1698331135778404   \n",
       "3   1697549426388998       1697547151490835     1697547181562859   \n",
       "4   1697720374951540       1697717561398617     1697717591451679   \n",
       "..               ...                    ...                  ...   \n",
       "61  1701076620463455       1701070606883831     1701070636939139   \n",
       "62  1699532456289465       1699526515924223     1699526546032073   \n",
       "63  1700213167336964       1700207023664163     1700207053664826   \n",
       "64  1701094842676442       1701088892891631     1701088922997897   \n",
       "65  1700043449346075       1700037588335488     1700037618400474   \n",
       "\n",
       "    calibrationbaseline_start  calibrationbaseline_end  serial     start_utc  \\\n",
       "0            1697541119436945         1697541156236309  820049  1.697541e+15   \n",
       "1            1698133769198769         1698133807275470  820049  1.698133e+15   \n",
       "2            1698331140728236         1698331177960215  820049  1.698331e+15   \n",
       "3            1697547184872435         1697547222484947  820049  1.697546e+15   \n",
       "4            1697717603399601         1697717641071340  820049  1.697717e+15   \n",
       "..                        ...                      ...     ...           ...   \n",
       "61           1701070658666029         1701070695494174  820049  1.701070e+15   \n",
       "62           1699526552715826         1699526588925301  820049  1.699526e+15   \n",
       "63           1700207060512127         1700207106099488  820049  1.700207e+15   \n",
       "64           1701088927956120         1701088966012866  820049  1.701089e+15   \n",
       "65           1700037623147297         1700037660522359  820049  1.700038e+15   \n",
       "\n",
       "         end_utc  exp       5_start         5_end  \n",
       "0   1.697544e+15    1           NaN           NaN  \n",
       "1   1.698136e+15    1           NaN           NaN  \n",
       "2   1.698333e+15    1           NaN           NaN  \n",
       "3   1.697549e+15    1           NaN           NaN  \n",
       "4   1.697720e+15    1           NaN           NaN  \n",
       "..           ...  ...           ...           ...  \n",
       "61  1.701077e+15    3  1.701077e+15  1.701077e+15  \n",
       "62  1.699533e+15    3           NaN           NaN  \n",
       "63  1.700214e+15    3  1.700213e+15  1.700214e+15  \n",
       "64  1.701095e+15    3  1.701095e+15  1.701095e+15  \n",
       "65  1.700044e+15    3  1.700043e+15  1.700044e+15  \n",
       "\n",
       "[66 rows x 19 columns]"
      ]
     },
     "execution_count": 4,
     "metadata": {},
     "output_type": "execute_result"
    }
   ],
   "source": [
    "import pandas as pd\n",
    "\n",
    "df = pd.read_parquet('/home/ps5359/data/full_clean/h5/metadata.parquet')\n",
    "df"
   ]
  },
  {
   "cell_type": "code",
   "execution_count": 7,
   "id": "a24329f0-6f9b-4f90-9389-551a76489090",
   "metadata": {},
   "outputs": [],
   "source": [
    "df['start_hour'] = pd.to_datetime(df['start_utc'] // 1000, unit='ms').dt.hour + 3"
   ]
  },
  {
   "cell_type": "code",
   "execution_count": 8,
   "id": "ae0af4d9-69d0-41de-98a1-7ab16efd8c5a",
   "metadata": {},
   "outputs": [
    {
     "data": {
      "text/plain": [
       "exp  start_hour\n",
       "1    10.0          3\n",
       "     11.0          1\n",
       "     12.0          3\n",
       "     13.0          2\n",
       "     14.0          3\n",
       "     15.0          2\n",
       "     16.0          1\n",
       "     17.0          4\n",
       "2    10.0          2\n",
       "     11.0          1\n",
       "     12.0          4\n",
       "     14.0          5\n",
       "     15.0          5\n",
       "     16.0          1\n",
       "     17.0          5\n",
       "3    10.0          6\n",
       "     11.0          2\n",
       "     13.0          8\n",
       "     15.0          6\n",
       "     16.0          1\n",
       "Name: filename_h5, dtype: int64"
      ]
     },
     "execution_count": 8,
     "metadata": {},
     "output_type": "execute_result"
    }
   ],
   "source": [
    "import matplotlib.pyplot as plt\n",
    "\n",
    "df.groupby(by=['exp', 'start_hour']).count()['filename_h5']"
   ]
  },
  {
   "cell_type": "code",
   "execution_count": 9,
   "id": "26ecffed-dab7-4298-9d21-b9808c47e2fc",
   "metadata": {},
   "outputs": [
    {
     "data": {
      "text/plain": [
       "2614216716.0"
      ]
     },
     "execution_count": 9,
     "metadata": {},
     "output_type": "execute_result"
    }
   ],
   "source": [
    "df['duration_raw'] = df['end_utc'] - df['start_utc']\n",
    "df['duration_raw'][0]"
   ]
  },
  {
   "cell_type": "code",
   "execution_count": 10,
   "id": "fb259bbf-b59d-4b62-a575-1a2b1ff07bd6",
   "metadata": {},
   "outputs": [
    {
     "data": {
      "text/plain": [
       "0     1.078489e+08\n",
       "1     4.185453e+08\n",
       "2     2.062232e+08\n",
       "3     1.079974e+09\n",
       "4     9.408660e+08\n",
       "          ...     \n",
       "61    4.516389e+08\n",
       "62    3.680919e+08\n",
       "63    5.312063e+08\n",
       "64    4.806350e+08\n",
       "65    1.414960e+08\n",
       "Length: 66, dtype: float64"
      ]
     },
     "execution_count": 10,
     "metadata": {},
     "output_type": "execute_result"
    }
   ],
   "source": [
    "df['1_start'] - df['start_utc']"
   ]
  },
  {
   "cell_type": "code",
   "execution_count": 25,
   "id": "1e6e947d-5972-4394-918e-0da490aad99c",
   "metadata": {},
   "outputs": [],
   "source": [
    "from utils.data_utils import load_recording\n",
    "\n",
    "a, b, c = load_recording('/home/ps5359/data/full_clean/h5/3_15.11_Александр.h5')"
   ]
  },
  {
   "cell_type": "code",
   "execution_count": 29,
   "id": "0f1cc5bc-9488-4b8d-87ad-15d5b0f977a8",
   "metadata": {},
   "outputs": [
    {
     "data": {
      "text/plain": [
       "{'eeg4_datasetAttribute': {'channelCount': 4,\n",
       "  'channelNames': ['O1', 'T3', 'T4', 'O2'],\n",
       "  'deviceType': 0},\n",
       " 'eeg4_datasetAttributeStartTime': 1700037557002791}"
      ]
     },
     "execution_count": 29,
     "metadata": {},
     "output_type": "execute_result"
    }
   ],
   "source": [
    "c"
   ]
  },
  {
   "cell_type": "code",
   "execution_count": 33,
   "id": "b08217ea-3625-48e5-95ab-1c44e75a7278",
   "metadata": {},
   "outputs": [
    {
     "data": {
      "text/plain": [
       "6033474"
      ]
     },
     "execution_count": 33,
     "metadata": {},
     "output_type": "execute_result"
    }
   ],
   "source": [
    "1700037557002791 - 1700037550969317"
   ]
  },
  {
   "cell_type": "code",
   "execution_count": 32,
   "id": "9f7af10d-f162-4787-a6b7-5bff62e1526d",
   "metadata": {},
   "outputs": [
    {
     "data": {
      "text/plain": [
       "1700037550969317.0"
      ]
     },
     "execution_count": 32,
     "metadata": {},
     "output_type": "execute_result"
    }
   ],
   "source": [
    "alex['start_utc']"
   ]
  },
  {
   "cell_type": "code",
   "execution_count": 12,
   "id": "5dbc7cc4-c66d-41cf-ad54-48632bfebe8f",
   "metadata": {},
   "outputs": [
    {
     "data": {
      "text/plain": [
       "array([[0.19734438, 0.19735305, 0.19734176, ..., 0.12390415, 0.12384788,\n",
       "        0.1238423 ],\n",
       "       [0.2027971 , 0.20280926, 0.20280436, ..., 0.12994878, 0.12993357,\n",
       "        0.12993877],\n",
       "       [0.18674529, 0.18675335, 0.18673994, ..., 0.10805684, 0.10803696,\n",
       "        0.10802966],\n",
       "       [0.2104853 , 0.21047977, 0.21046798, ..., 0.14506504, 0.14500543,\n",
       "        0.14499085]], dtype=float32)"
      ]
     },
     "execution_count": 12,
     "metadata": {},
     "output_type": "execute_result"
    }
   ],
   "source": [
    "a.shape["
   ]
  },
  {
   "cell_type": "code",
   "execution_count": 16,
   "id": "fa816df5-4036-4343-a5ac-dac64819ae4f",
   "metadata": {},
   "outputs": [
    {
     "data": {
      "text/plain": [
       "filename_h5                   3_15.11_Александр\n",
       "1_start                        1700037692465365\n",
       "1_end                          1700037999073383\n",
       "2_start                        1700038080503636\n",
       "2_end                          1700039799444100\n",
       "3_start                        1700039858336173\n",
       "3_end                          1700041598736281\n",
       "4_start                        1700041656062603\n",
       "4_end                          1700043449346075\n",
       "calibrationiapf_start          1700037588335488\n",
       "calibrationiapf_end            1700037618400474\n",
       "calibrationbaseline_start      1700037623147297\n",
       "calibrationbaseline_end        1700037660522359\n",
       "serial                                   820049\n",
       "start_utc                    1700037550969317.0\n",
       "end_utc                      1700043832613152.0\n",
       "exp                                           3\n",
       "5_start                      1700043480658881.0\n",
       "5_end                        1700043816445093.0\n",
       "start_hour                                 11.0\n",
       "duration_raw                       6281643835.0\n",
       "Name: 65, dtype: object"
      ]
     },
     "execution_count": 16,
     "metadata": {},
     "output_type": "execute_result"
    }
   ],
   "source": [
    "alex = df[df['filename_h5'] == '3_15.11_Александр'].iloc[0]\n",
    "alex"
   ]
  },
  {
   "cell_type": "code",
   "execution_count": 22,
   "id": "3fa8a27c-636b-4fe8-ad53-d81327ed468c",
   "metadata": {},
   "outputs": [
    {
     "data": {
      "text/plain": [
       "6281643.0"
      ]
     },
     "execution_count": 22,
     "metadata": {},
     "output_type": "execute_result"
    }
   ],
   "source": [
    "alex['duration_raw'] // 1000"
   ]
  },
  {
   "cell_type": "code",
   "execution_count": 28,
   "id": "e71b3daf-9749-41ec-8692-6fc892535f88",
   "metadata": {},
   "outputs": [
    {
     "data": {
      "text/plain": [
       "-4271.0"
      ]
     },
     "execution_count": 28,
     "metadata": {},
     "output_type": "execute_result"
    }
   ],
   "source": [
    "6277372 - alex['duration_raw'] // 1000"
   ]
  },
  {
   "cell_type": "code",
   "execution_count": 24,
   "id": "1aa36756-78b0-492b-841b-ad00f0197e9f",
   "metadata": {},
   "outputs": [
    {
     "data": {
      "text/plain": [
       "4267.0"
      ]
     },
     "execution_count": 24,
     "metadata": {},
     "output_type": "execute_result"
    }
   ],
   "source": [
    "(alex['duration_raw'] // 1000) - (a.shape[1] * 4)"
   ]
  },
  {
   "cell_type": "code",
   "execution_count": null,
   "id": "9fe49fd4-d257-4a7a-95c2-80d64c0f1d35",
   "metadata": {},
   "outputs": [],
   "source": []
  }
 ],
 "metadata": {
  "kernelspec": {
   "display_name": "my_env",
   "language": "python",
   "name": "my_env"
  },
  "language_info": {
   "codemirror_mode": {
    "name": "ipython",
    "version": 3
   },
   "file_extension": ".py",
   "mimetype": "text/x-python",
   "name": "python",
   "nbconvert_exporter": "python",
   "pygments_lexer": "ipython3",
   "version": "3.12.6"
  }
 },
 "nbformat": 4,
 "nbformat_minor": 5
}
