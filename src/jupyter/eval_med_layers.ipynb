{
 "cells": [
  {
   "cell_type": "code",
   "execution_count": 1,
   "metadata": {},
   "outputs": [],
   "source": [
    "import os\n",
    "os.chdir(os.path.join(os.getcwd(), '..'))"
   ]
  },
  {
   "cell_type": "code",
   "execution_count": 2,
   "metadata": {},
   "outputs": [
    {
     "name": "stderr",
     "output_type": "stream",
     "text": [
      "/tmp/ipykernel_6973/2474928465.py:12: FutureWarning: You are using `torch.load` with `weights_only=False` (the current default value), which uses the default pickle module implicitly. It is possible to construct malicious pickle data which will execute arbitrary code during unpickling (See https://github.com/pytorch/pytorch/blob/main/SECURITY.md#untrusted-models for more details). In a future release, the default value for `weights_only` will be flipped to `True`. This limits the functions that could be executed during unpickling. Arbitrary objects will no longer be allowed to be loaded via this mode unless they are explicitly allowlisted by the user via `torch.serialization.add_safe_globals`. We recommend you start setting `weights_only=True` for any use case where you don't have full control of the loaded file. Please open an issue on GitHub for any issues related to this experimental feature.\n",
      "  encoder_sd = torch.load('/workspace/checkpoints_70ep/encoder_2024-12-23T19:57:53.101820.pt', map_location=torch.device('cpu') )\n",
      "/tmp/ipykernel_6973/2474928465.py:13: FutureWarning: You are using `torch.load` with `weights_only=False` (the current default value), which uses the default pickle module implicitly. It is possible to construct malicious pickle data which will execute arbitrary code during unpickling (See https://github.com/pytorch/pytorch/blob/main/SECURITY.md#untrusted-models for more details). In a future release, the default value for `weights_only` will be flipped to `True`. This limits the functions that could be executed during unpickling. Arbitrary objects will no longer be allowed to be loaded via this mode unless they are explicitly allowlisted by the user via `torch.serialization.add_safe_globals`. We recommend you start setting `weights_only=True` for any use case where you don't have full control of the loaded file. Please open an issue on GitHub for any issues related to this experimental feature.\n",
      "  context_network_sd = torch.load('/workspace/checkpoints_70ep/context_network_2024-12-23T19:57:53.101820.pt', map_location=torch.device('cpu') )\n"
     ]
    },
    {
     "data": {
      "text/plain": [
       "ContextNetwork(\n",
       "  (transformer_encoder): TransformerEncoder(\n",
       "    (layers): ModuleList(\n",
       "      (0-19): 20 x TransformerEncoderLayer(\n",
       "        (self_attn): MultiheadAttention(\n",
       "          (out_proj): NonDynamicallyQuantizableLinear(in_features=512, out_features=512, bias=True)\n",
       "        )\n",
       "        (linear1): Linear(in_features=512, out_features=2048, bias=True)\n",
       "        (dropout): Dropout(p=0.1, inplace=False)\n",
       "        (linear2): Linear(in_features=2048, out_features=512, bias=True)\n",
       "        (norm1): LayerNorm((512,), eps=1e-05, elementwise_affine=True)\n",
       "        (norm2): LayerNorm((512,), eps=1e-05, elementwise_affine=True)\n",
       "        (dropout1): Dropout(p=0.1, inplace=False)\n",
       "        (dropout2): Dropout(p=0.1, inplace=False)\n",
       "      )\n",
       "    )\n",
       "  )\n",
       "  (target_proj): Linear(in_features=512, out_features=512, bias=True)\n",
       "  (positional_emb): SinusoidalPositionalEncoding(\n",
       "    (norm): LayerNorm((512,), eps=1e-05, elementwise_affine=False)\n",
       "  )\n",
       ")"
      ]
     },
     "execution_count": 2,
     "metadata": {},
     "output_type": "execute_result"
    }
   ],
   "source": [
    "from utils.data_utils import load_recording\n",
    "from utils.data_utils import plot_first_n, plot_spec\n",
    "import torch\n",
    "from tqdm import tqdm\n",
    "import yaml\n",
    "from models.bendr import EncoderConv, ContextNetwork\n",
    "\n",
    "with open('configs/od_config_bendr.yaml', 'r') as file:\n",
    "        cfg = yaml.safe_load(file)\n",
    "\n",
    "\n",
    "encoder_sd = torch.load('/workspace/checkpoints_70ep/encoder_2024-12-23T19:57:53.101820.pt', map_location=torch.device('cpu') )\n",
    "context_network_sd = torch.load('/workspace/checkpoints_70ep/context_network_2024-12-23T19:57:53.101820.pt', map_location=torch.device('cpu') )\n",
    "\n",
    "\n",
    "encoder = EncoderConv(**cfg['encoder'])\n",
    "context_network = ContextNetwork(**cfg['context_network'])\n",
    "\n",
    "encoder.load_state_dict(encoder_sd)\n",
    "context_network.load_state_dict(context_network_sd)\n",
    "encoder.eval()\n",
    "context_network.eval()"
   ]
  },
  {
   "cell_type": "code",
   "execution_count": 3,
   "metadata": {},
   "outputs": [
    {
     "data": {
      "text/plain": [
       "torch.Size([2, 4, 73728])"
      ]
     },
     "execution_count": 3,
     "metadata": {},
     "output_type": "execute_result"
    }
   ],
   "source": [
    "from dataset.labeled_dataset import EEGLabeledDataset\n",
    "from torch.utils.data import DataLoader\n",
    "\n",
    "dataset = EEGLabeledDataset(\n",
    "    data_path='/root/full_clean/h5',\n",
    "    cache_processed_path='/root/full_clean/cache',\n",
    "    train_length=73728, dataset_mode=\"full\",\n",
    "    rebuild_cache=False, limit=None,\n",
    "    target_config={\n",
    "    \"user_id\": True,\n",
    "    \"activity\": False, },\n",
    "    clipped_threshold=100\n",
    ")\n",
    "loader = DataLoader(dataset, 2, shuffle=False, drop_last=False)\n",
    "next(iter(loader))['data'].shape"
   ]
  },
  {
   "cell_type": "code",
   "execution_count": 5,
   "metadata": {},
   "outputs": [
    {
     "data": {
      "text/plain": [
       "{'data': tensor([[[-1.3341, -1.2536, -0.9562,  ..., -0.4517, -0.6568, -0.3976],\n",
       "          [ 0.2220,  0.4329,  0.6511,  ...,  0.0171,  0.0758,  0.0437],\n",
       "          [-0.0994, -0.3084, -0.4801,  ...,  0.0535, -0.2214, -0.4292],\n",
       "          [ 0.1419,  0.1302,  0.0281,  ...,  0.0217, -0.1909, -0.1806]],\n",
       " \n",
       "         [[ 0.1890,  0.7485,  1.1593,  ..., -0.9186, -1.0835, -1.0746],\n",
       "          [ 0.0065,  0.0361,  0.1696,  ...,  1.1903,  1.2647,  1.2332],\n",
       "          [-0.3983, -0.3128, -0.0671,  ..., -0.6552, -0.6781, -0.6625],\n",
       "          [-0.0156,  0.1706,  0.4004,  ..., -1.1468, -1.1450, -1.1531]]],\n",
       "        device='cuda:0'),\n",
       " 'user_id': tensor([18, 18]),\n",
       " 'ind': tensor([0, 1]),\n",
       " 'encoder_features': tensor([[[-1.5077e-01, -1.6384e-01, -8.3961e-02,  ..., -1.2004e-01,\n",
       "            2.2084e+00,  3.3056e-01],\n",
       "          [-1.6961e-01, -1.6997e-01,  1.9376e-01,  ...,  4.1470e-02,\n",
       "            6.1490e-02,  3.2570e-01],\n",
       "          [-1.6768e-01, -1.3030e-01,  1.3288e-02,  ...,  1.2812e-01,\n",
       "           -2.6515e-02,  1.1501e-01],\n",
       "          ...,\n",
       "          [-1.6402e-01, -1.4380e-01,  8.2494e-01,  ...,  2.9730e-02,\n",
       "           -1.5886e-04,  1.3334e+00],\n",
       "          [ 6.7327e-01, -7.3655e-02,  3.0823e-01,  ...,  2.2157e-01,\n",
       "           -6.9015e-02,  9.1726e-01],\n",
       "          [ 1.3665e-01, -1.6148e-01, -1.5856e-01,  ...,  2.3663e-02,\n",
       "           -3.8139e-03, -8.5570e-02]],\n",
       " \n",
       "         [[-6.6902e-02, -1.6685e-01, -6.6511e-02,  ...,  3.5153e-02,\n",
       "           -1.5296e-01, -4.7556e-02],\n",
       "          [-2.8239e-02, -1.4084e-01,  1.6298e-01,  ..., -1.0406e-01,\n",
       "           -3.8707e-02, -5.1190e-02],\n",
       "          [-1.5930e-01, -1.3251e-02, -1.6982e-01,  ...,  2.7073e-02,\n",
       "            1.0946e+00,  8.2853e-01],\n",
       "          ...,\n",
       "          [-1.5826e-01, -4.1697e-02, -1.5659e-01,  ...,  9.5185e-03,\n",
       "           -4.4983e-04,  7.5938e-01],\n",
       "          [-5.5677e-03, -1.4440e-01,  2.5647e-01,  ..., -7.7807e-03,\n",
       "           -8.8483e-02, -1.5124e-01],\n",
       "          [-1.5305e-01, -1.3581e-01,  1.5735e-02,  ..., -2.3417e-02,\n",
       "           -1.0873e-01,  6.6823e-01]]], device='cuda:0',\n",
       "        grad_fn=<PermuteBackward0>),\n",
       " 'mask': tensor([[False, False, False,  ..., False, False, False],\n",
       "         [False, False, False,  ...,  True,  True,  True]], device='cuda:0'),\n",
       " 'context_vectors': tensor([[[ 4.3602e+02, -1.1162e+00,  3.0511e+01,  ..., -1.9839e+01,\n",
       "            2.2335e+01,  2.7873e+01],\n",
       "          [ 4.5447e+02,  2.9959e-02,  2.1912e+01,  ..., -2.6673e+01,\n",
       "            1.8138e+01,  2.5148e+01],\n",
       "          [ 2.2018e+02, -1.7257e+01,  5.2641e+00,  ..., -1.4501e+01,\n",
       "            7.7910e+00,  3.4829e+00],\n",
       "          ...,\n",
       "          [ 5.0196e+02, -9.5627e+00,  2.9469e+01,  ..., -7.7908e-01,\n",
       "           -5.8742e+00,  3.0376e+01],\n",
       "          [ 3.7413e+02, -2.6396e+00,  2.4339e+01,  ...,  9.4473e-01,\n",
       "            4.9276e-01,  1.5259e+01],\n",
       "          [ 3.0886e+02, -1.3316e+00,  1.9155e+01,  ..., -4.1577e-01,\n",
       "           -2.2579e+00,  5.0842e+00]],\n",
       " \n",
       "         [[ 5.9836e+02, -6.9652e+00,  2.1267e+01,  ..., -8.5125e+00,\n",
       "           -8.9244e+00,  6.2147e+01],\n",
       "          [ 2.3351e+02, -3.0405e+01,  1.9007e+01,  ..., -8.8683e+00,\n",
       "            1.7309e+01, -2.7783e+01],\n",
       "          [ 6.9306e+02, -3.6584e+00,  4.1255e+01,  ..., -1.1953e+01,\n",
       "           -5.5940e+00,  7.4004e+01],\n",
       "          ...,\n",
       "          [-7.4872e+00, -3.0894e+00, -4.9739e+01,  ..., -2.0315e+01,\n",
       "           -1.0778e+01, -6.9205e+01],\n",
       "          [-8.5218e+00, -3.6251e+00, -5.0202e+01,  ..., -2.0608e+01,\n",
       "           -9.7597e+00, -6.4192e+01],\n",
       "          [-9.1607e+00, -5.0206e+00, -4.9985e+01,  ..., -2.0872e+01,\n",
       "           -8.4357e+00, -6.0121e+01]]], device='cuda:0', grad_fn=<AddBackward0>),\n",
       " 'targets': tensor([[[-0.3147, -0.6895,  0.4661,  ..., -0.1553,  1.6472, -1.8083],\n",
       "          [ 0.4174, -1.4812, -0.8443,  ...,  2.2724, -1.1941, -0.1630],\n",
       "          [-0.3882, -0.5776,  1.4005,  ..., -3.1891,  1.0674,  0.4925],\n",
       "          ...,\n",
       "          [-0.9210,  0.5248,  0.8282,  ...,  1.7629,  1.3157, -1.5603],\n",
       "          [-0.6633, -0.8157, -0.8437,  ...,  0.3370,  0.7124, -0.4941],\n",
       "          [-0.3409, -2.5296,  1.7497,  ...,  1.1630, -1.3670, -0.9291]],\n",
       " \n",
       "         [[ 0.4391, -0.9087,  0.5074,  ..., -2.2585, -0.5805, -0.7890],\n",
       "          [ 0.1461, -0.4397,  0.1892,  ...,  0.7271,  0.8055,  0.9752],\n",
       "          [-0.2132, -1.4793,  1.0644,  ...,  3.4329,  0.0335,  1.3590],\n",
       "          ...,\n",
       "          [-1.3829,  0.3749, -0.6724,  ..., -3.4988, -1.1527, -1.1632],\n",
       "          [ 0.1303, -2.9999,  0.2994,  ...,  3.0007,  1.2518, -1.3844],\n",
       "          [ 0.1646,  2.2241, -1.3354,  ..., -2.6971,  0.1672, -3.1928]]],\n",
       "        device='cuda:0', grad_fn=<AddBackward0>)}"
      ]
     },
     "execution_count": 5,
     "metadata": {},
     "output_type": "execute_result"
    }
   ],
   "source": [
    "device = torch.device('cuda')\n",
    "encoder = encoder.to(device)\n",
    "context_network = context_network.to(device)\n",
    "\n",
    "batch = next(iter(loader))\n",
    "batch['data'] = batch['data'].to(device)\n",
    "batch = encoder(batch)\n",
    "batch = context_network(batch)\n",
    "batch"
   ]
  },
  {
   "cell_type": "code",
   "execution_count": 6,
   "metadata": {},
   "outputs": [
    {
     "name": "stderr",
     "output_type": "stream",
     "text": [
      "  1%|          | 3/405 [00:00<00:19, 20.82it/s]"
     ]
    },
    {
     "name": "stderr",
     "output_type": "stream",
     "text": [
      "100%|██████████| 405/405 [00:20<00:00, 19.99it/s]\n"
     ]
    }
   ],
   "source": [
    "from tqdm import tqdm\n",
    "from eval.reg import fft_extract_features\n",
    "\n",
    "uids = []\n",
    "encoder_fs = [[] for _ in range(6)]\n",
    "trans_fs = [[] for _ in range(20)]\n",
    "fft_features = []\n",
    "\n",
    "device = torch.device('cuda')\n",
    "encoder = encoder.to(device)\n",
    "context_network = context_network.to(device)\n",
    "\n",
    "with torch.no_grad():\n",
    "    for batch in tqdm(loader):\n",
    "        msk = batch['user_id'] != 49\n",
    "        batch['data'] = batch['data'][msk]\n",
    "        use_uids = batch['user_id'][msk]\n",
    "        \n",
    "        uids.extend(use_uids.tolist())\n",
    "        \n",
    "        x = batch['data'].to(device)\n",
    "        fft_features.append(fft_extract_features(x).cpu())\n",
    "        \n",
    "        \n",
    "        for i in range(6):\n",
    "            x = encoder.stack[i](x)\n",
    "            encoder_fs[i].append(x.mean(2).cpu())\n",
    "        x = x.permute(0, 2, 1)\n",
    "        x = context_network.positional_emb(x)\n",
    "        \n",
    "        for i in range(20):\n",
    "            x = context_network.transformer_encoder.layers[i](x)\n",
    "            trans_fs[i].append(x.mean(1).cpu())\n",
    "\n",
    "\n",
    "trans_fs = [torch.cat(x, 0) for x in trans_fs]\n",
    "encoder_fs = [torch.cat(x, 0) for x in encoder_fs]\n",
    "fft_features = torch.cat(fft_features, 0)\n",
    "uids = torch.tensor(uids)"
   ]
  },
  {
   "cell_type": "code",
   "execution_count": 7,
   "metadata": {},
   "outputs": [],
   "source": [
    "from eval.reg import evaluate_catboost_cv"
   ]
  },
  {
   "cell_type": "code",
   "execution_count": 8,
   "metadata": {},
   "outputs": [],
   "source": [
    "res = []\n",
    "names = []"
   ]
  },
  {
   "cell_type": "code",
   "execution_count": 9,
   "metadata": {},
   "outputs": [
    {
     "name": "stdout",
     "output_type": "stream",
     "text": [
      "Learning rate set to 0.389518\n",
      "0:\tlearn: 3.8173525\ttotal: 49.7ms\tremaining: 4.92s\n",
      "99:\tlearn: 0.2341643\ttotal: 3.58s\tremaining: 0us\n",
      "Fold 1 Accuracy: 0.5074\n",
      "Learning rate set to 0.389518\n",
      "0:\tlearn: 3.8441028\ttotal: 39.4ms\tremaining: 3.9s\n",
      "99:\tlearn: 0.2351554\ttotal: 3.55s\tremaining: 0us\n",
      "Fold 2 Accuracy: 0.5481\n",
      "Learning rate set to 0.389666\n",
      "0:\tlearn: 3.8156250\ttotal: 38ms\tremaining: 3.77s\n",
      "99:\tlearn: 0.2201237\ttotal: 3.54s\tremaining: 0us\n",
      "Fold 3 Accuracy: 0.5204\n",
      "Mean Accuracy: 0.5253\n",
      "---encoder_0: 52.53%\n",
      "Learning rate set to 0.389518\n",
      "0:\tlearn: 3.8904574\ttotal: 34.7ms\tremaining: 3.44s\n",
      "99:\tlearn: 0.2230827\ttotal: 3.55s\tremaining: 0us\n",
      "Fold 1 Accuracy: 0.5407\n",
      "Learning rate set to 0.389518\n",
      "0:\tlearn: 3.8657186\ttotal: 37ms\tremaining: 3.67s\n",
      "99:\tlearn: 0.2234081\ttotal: 3.52s\tremaining: 0us\n",
      "Fold 2 Accuracy: 0.5407\n",
      "Learning rate set to 0.389666\n",
      "0:\tlearn: 3.7853405\ttotal: 34.8ms\tremaining: 3.44s\n",
      "99:\tlearn: 0.2274059\ttotal: 3.48s\tremaining: 0us\n",
      "Fold 3 Accuracy: 0.5353\n",
      "Mean Accuracy: 0.5389\n",
      "---encoder_1: 53.89%\n",
      "Learning rate set to 0.389518\n",
      "0:\tlearn: 3.9219248\ttotal: 35.3ms\tremaining: 3.5s\n",
      "99:\tlearn: 0.1966858\ttotal: 3.42s\tremaining: 0us\n",
      "Fold 1 Accuracy: 0.5667\n",
      "Learning rate set to 0.389518\n",
      "0:\tlearn: 3.8182072\ttotal: 39.2ms\tremaining: 3.88s\n",
      "99:\tlearn: 0.1823340\ttotal: 3.43s\tremaining: 0us\n",
      "Fold 2 Accuracy: 0.5778\n",
      "Learning rate set to 0.389666\n",
      "0:\tlearn: 3.8477498\ttotal: 37.4ms\tremaining: 3.7s\n",
      "99:\tlearn: 0.1903537\ttotal: 3.47s\tremaining: 0us\n",
      "Fold 3 Accuracy: 0.6208\n",
      "Mean Accuracy: 0.5884\n",
      "---encoder_2: 58.84%\n",
      "Learning rate set to 0.389518\n",
      "0:\tlearn: 3.8681256\ttotal: 35.5ms\tremaining: 3.52s\n",
      "99:\tlearn: 0.1696471\ttotal: 3.51s\tremaining: 0us\n",
      "Fold 1 Accuracy: 0.6370\n",
      "Learning rate set to 0.389518\n",
      "0:\tlearn: 3.8433500\ttotal: 44.2ms\tremaining: 4.37s\n",
      "99:\tlearn: 0.1689113\ttotal: 3.56s\tremaining: 0us\n",
      "Fold 2 Accuracy: 0.6037\n",
      "Learning rate set to 0.389666\n",
      "0:\tlearn: 3.8164085\ttotal: 36.5ms\tremaining: 3.61s\n",
      "99:\tlearn: 0.1603343\ttotal: 3.43s\tremaining: 0us\n",
      "Fold 3 Accuracy: 0.6766\n",
      "Mean Accuracy: 0.6391\n",
      "---encoder_3: 63.91%\n",
      "Learning rate set to 0.389518\n",
      "0:\tlearn: 3.8311353\ttotal: 40.3ms\tremaining: 3.99s\n",
      "99:\tlearn: 0.1936110\ttotal: 3.42s\tremaining: 0us\n",
      "Fold 1 Accuracy: 0.5519\n",
      "Learning rate set to 0.389518\n",
      "0:\tlearn: 3.8773005\ttotal: 41.9ms\tremaining: 4.15s\n",
      "99:\tlearn: 0.2048330\ttotal: 3.39s\tremaining: 0us\n",
      "Fold 2 Accuracy: 0.5259\n",
      "Learning rate set to 0.389666\n",
      "0:\tlearn: 3.8561252\ttotal: 41.9ms\tremaining: 4.15s\n",
      "99:\tlearn: 0.2099102\ttotal: 3.42s\tremaining: 0us\n",
      "Fold 3 Accuracy: 0.5985\n",
      "Mean Accuracy: 0.5588\n",
      "---encoder_4: 55.88%\n",
      "Learning rate set to 0.389518\n",
      "0:\tlearn: 3.8488167\ttotal: 45.3ms\tremaining: 4.48s\n",
      "99:\tlearn: 0.2277346\ttotal: 3.42s\tremaining: 0us\n",
      "Fold 1 Accuracy: 0.4630\n",
      "Learning rate set to 0.389518\n",
      "0:\tlearn: 3.8651008\ttotal: 46.4ms\tremaining: 4.59s\n",
      "99:\tlearn: 0.2353586\ttotal: 3.44s\tremaining: 0us\n",
      "Fold 2 Accuracy: 0.4593\n",
      "Learning rate set to 0.389666\n",
      "0:\tlearn: 3.8821895\ttotal: 40.8ms\tremaining: 4.04s\n",
      "99:\tlearn: 0.2310515\ttotal: 3.46s\tremaining: 0us\n",
      "Fold 3 Accuracy: 0.5019\n",
      "Mean Accuracy: 0.4747\n",
      "---encoder_5: 47.47%\n"
     ]
    }
   ],
   "source": [
    "for i in range(6):\n",
    "    t = evaluate_catboost_cv(encoder_fs[i], uids, num_steps=100)\n",
    "    n = f'encoder_{i}'\n",
    "    print(f\"---{n}: {t * 100:.2f}%\")\n",
    "    res.append(t)\n",
    "    names.append(n)"
   ]
  },
  {
   "cell_type": "code",
   "execution_count": 17,
   "metadata": {},
   "outputs": [
    {
     "data": {
      "text/plain": [
       "20"
      ]
     },
     "execution_count": 17,
     "metadata": {},
     "output_type": "execute_result"
    }
   ],
   "source": [
    "len(trans_fs)"
   ]
  },
  {
   "cell_type": "code",
   "execution_count": 10,
   "metadata": {},
   "outputs": [
    {
     "name": "stdout",
     "output_type": "stream",
     "text": [
      "Learning rate set to 0.389518\n",
      "0:\tlearn: 3.9543317\ttotal: 39.1ms\tremaining: 3.87s\n",
      "99:\tlearn: 0.2448286\ttotal: 3.38s\tremaining: 0us\n",
      "Fold 1 Accuracy: 0.4333\n",
      "Learning rate set to 0.389518\n",
      "0:\tlearn: 3.9341808\ttotal: 39.7ms\tremaining: 3.93s\n",
      "99:\tlearn: 0.2448232\ttotal: 3.41s\tremaining: 0us\n",
      "Fold 2 Accuracy: 0.4741\n",
      "Learning rate set to 0.389666\n",
      "0:\tlearn: 3.9322202\ttotal: 42.7ms\tremaining: 4.23s\n",
      "99:\tlearn: 0.2436302\ttotal: 3.43s\tremaining: 0us\n",
      "Fold 3 Accuracy: 0.5242\n",
      "Mean Accuracy: 0.4772\n",
      "---context_0: 47.72%\n",
      "Learning rate set to 0.389518\n",
      "0:\tlearn: 3.9484274\ttotal: 36.1ms\tremaining: 3.57s\n",
      "99:\tlearn: 0.2348968\ttotal: 3.43s\tremaining: 0us\n",
      "Fold 1 Accuracy: 0.4259\n",
      "Learning rate set to 0.389518\n",
      "0:\tlearn: 3.9490489\ttotal: 34.6ms\tremaining: 3.42s\n",
      "99:\tlearn: 0.2604165\ttotal: 3.38s\tremaining: 0us\n",
      "Fold 2 Accuracy: 0.4111\n",
      "Learning rate set to 0.389666\n",
      "0:\tlearn: 3.9384395\ttotal: 40.3ms\tremaining: 3.99s\n",
      "99:\tlearn: 0.2661340\ttotal: 3.44s\tremaining: 0us\n",
      "Fold 3 Accuracy: 0.4610\n",
      "Mean Accuracy: 0.4327\n",
      "---context_1: 43.27%\n",
      "Learning rate set to 0.389518\n",
      "0:\tlearn: 3.8888793\ttotal: 38.3ms\tremaining: 3.79s\n",
      "99:\tlearn: 0.2050553\ttotal: 3.44s\tremaining: 0us\n",
      "Fold 1 Accuracy: 0.4259\n",
      "Learning rate set to 0.389518\n",
      "0:\tlearn: 3.8891882\ttotal: 42.1ms\tremaining: 4.17s\n",
      "99:\tlearn: 0.2233457\ttotal: 3.44s\tremaining: 0us\n",
      "Fold 2 Accuracy: 0.4815\n",
      "Learning rate set to 0.389666\n",
      "0:\tlearn: 3.9122012\ttotal: 40.8ms\tremaining: 4.04s\n",
      "99:\tlearn: 0.2136038\ttotal: 3.45s\tremaining: 0us\n",
      "Fold 3 Accuracy: 0.4796\n",
      "Mean Accuracy: 0.4623\n",
      "---context_2: 46.23%\n",
      "Learning rate set to 0.389518\n",
      "0:\tlearn: 3.9337342\ttotal: 34.5ms\tremaining: 3.42s\n",
      "99:\tlearn: 0.1989691\ttotal: 3.43s\tremaining: 0us\n",
      "Fold 1 Accuracy: 0.4963\n",
      "Learning rate set to 0.389518\n",
      "0:\tlearn: 3.9070594\ttotal: 40.6ms\tremaining: 4.02s\n",
      "99:\tlearn: 0.2072344\ttotal: 3.38s\tremaining: 0us\n",
      "Fold 2 Accuracy: 0.5444\n",
      "Learning rate set to 0.389666\n",
      "0:\tlearn: 3.9331945\ttotal: 41ms\tremaining: 4.06s\n",
      "99:\tlearn: 0.2016373\ttotal: 3.4s\tremaining: 0us\n",
      "Fold 3 Accuracy: 0.5762\n",
      "Mean Accuracy: 0.5390\n",
      "---context_3: 53.90%\n",
      "Learning rate set to 0.389518\n",
      "0:\tlearn: 3.8821494\ttotal: 39.5ms\tremaining: 3.91s\n",
      "99:\tlearn: 0.1907153\ttotal: 3.41s\tremaining: 0us\n",
      "Fold 1 Accuracy: 0.4852\n",
      "Learning rate set to 0.389518\n",
      "0:\tlearn: 3.8999594\ttotal: 44.3ms\tremaining: 4.38s\n",
      "99:\tlearn: 0.1971302\ttotal: 3.4s\tremaining: 0us\n",
      "Fold 2 Accuracy: 0.5370\n",
      "Learning rate set to 0.389666\n",
      "0:\tlearn: 3.9118901\ttotal: 41.3ms\tremaining: 4.09s\n",
      "99:\tlearn: 0.1950350\ttotal: 3.42s\tremaining: 0us\n",
      "Fold 3 Accuracy: 0.5799\n",
      "Mean Accuracy: 0.5340\n",
      "---context_4: 53.40%\n",
      "Learning rate set to 0.389518\n",
      "0:\tlearn: 3.8498023\ttotal: 38.7ms\tremaining: 3.83s\n",
      "99:\tlearn: 0.1718730\ttotal: 3.41s\tremaining: 0us\n",
      "Fold 1 Accuracy: 0.5519\n",
      "Learning rate set to 0.389518\n",
      "0:\tlearn: 3.9494054\ttotal: 37.2ms\tremaining: 3.68s\n",
      "99:\tlearn: 0.1672283\ttotal: 3.41s\tremaining: 0us\n",
      "Fold 2 Accuracy: 0.6037\n",
      "Learning rate set to 0.389666\n",
      "0:\tlearn: 3.9720563\ttotal: 37.7ms\tremaining: 3.73s\n",
      "99:\tlearn: 0.1634757\ttotal: 3.45s\tremaining: 0us\n",
      "Fold 3 Accuracy: 0.6506\n",
      "Mean Accuracy: 0.6020\n",
      "---context_5: 60.20%\n",
      "Learning rate set to 0.389518\n",
      "0:\tlearn: 3.9234024\ttotal: 38.8ms\tremaining: 3.84s\n",
      "99:\tlearn: 0.1586950\ttotal: 3.42s\tremaining: 0us\n",
      "Fold 1 Accuracy: 0.6037\n",
      "Learning rate set to 0.389518\n",
      "0:\tlearn: 3.8525789\ttotal: 36.2ms\tremaining: 3.58s\n",
      "99:\tlearn: 0.1765664\ttotal: 3.42s\tremaining: 0us\n",
      "Fold 2 Accuracy: 0.5889\n",
      "Learning rate set to 0.389666\n",
      "0:\tlearn: 3.9234755\ttotal: 42.8ms\tremaining: 4.24s\n",
      "99:\tlearn: 0.1753879\ttotal: 3.45s\tremaining: 0us\n",
      "Fold 3 Accuracy: 0.6171\n",
      "Mean Accuracy: 0.6032\n",
      "---context_6: 60.32%\n",
      "Learning rate set to 0.389518\n",
      "0:\tlearn: 3.9184063\ttotal: 34.3ms\tremaining: 3.4s\n",
      "99:\tlearn: 0.1692388\ttotal: 3.39s\tremaining: 0us\n",
      "Fold 1 Accuracy: 0.5593\n",
      "Learning rate set to 0.389518\n",
      "0:\tlearn: 3.9201153\ttotal: 37.6ms\tremaining: 3.72s\n",
      "99:\tlearn: 0.1773695\ttotal: 3.36s\tremaining: 0us\n",
      "Fold 2 Accuracy: 0.5852\n",
      "Learning rate set to 0.389666\n",
      "0:\tlearn: 3.8665527\ttotal: 41.3ms\tremaining: 4.09s\n",
      "99:\tlearn: 0.1666181\ttotal: 3.46s\tremaining: 0us\n",
      "Fold 3 Accuracy: 0.6431\n",
      "Mean Accuracy: 0.5959\n",
      "---context_7: 59.59%\n",
      "Learning rate set to 0.389518\n",
      "0:\tlearn: 3.8993588\ttotal: 38.1ms\tremaining: 3.77s\n",
      "99:\tlearn: 0.1748022\ttotal: 3.4s\tremaining: 0us\n",
      "Fold 1 Accuracy: 0.5556\n",
      "Learning rate set to 0.389518\n",
      "0:\tlearn: 3.9163336\ttotal: 38.1ms\tremaining: 3.77s\n",
      "99:\tlearn: 0.1588528\ttotal: 3.44s\tremaining: 0us\n",
      "Fold 2 Accuracy: 0.5741\n",
      "Learning rate set to 0.389666\n",
      "0:\tlearn: 3.8913032\ttotal: 40.2ms\tremaining: 3.98s\n",
      "99:\tlearn: 0.1654310\ttotal: 3.45s\tremaining: 0us\n",
      "Fold 3 Accuracy: 0.6357\n",
      "Mean Accuracy: 0.5884\n",
      "---context_8: 58.84%\n",
      "Learning rate set to 0.389518\n",
      "0:\tlearn: 3.8843562\ttotal: 35.1ms\tremaining: 3.47s\n",
      "99:\tlearn: 0.1749082\ttotal: 3.39s\tremaining: 0us\n",
      "Fold 1 Accuracy: 0.5704\n",
      "Learning rate set to 0.389518\n",
      "0:\tlearn: 3.9210986\ttotal: 37.7ms\tremaining: 3.73s\n",
      "99:\tlearn: 0.1688873\ttotal: 3.42s\tremaining: 0us\n",
      "Fold 2 Accuracy: 0.5815\n",
      "Learning rate set to 0.389666\n",
      "0:\tlearn: 3.9082637\ttotal: 41.9ms\tremaining: 4.14s\n",
      "99:\tlearn: 0.1770772\ttotal: 3.38s\tremaining: 0us\n",
      "Fold 3 Accuracy: 0.6394\n",
      "Mean Accuracy: 0.5971\n",
      "---context_9: 59.71%\n",
      "Learning rate set to 0.389518\n",
      "0:\tlearn: 3.9215326\ttotal: 36ms\tremaining: 3.56s\n",
      "99:\tlearn: 0.1729499\ttotal: 3.4s\tremaining: 0us\n",
      "Fold 1 Accuracy: 0.5704\n",
      "Learning rate set to 0.389518\n",
      "0:\tlearn: 3.8898631\ttotal: 35.6ms\tremaining: 3.52s\n",
      "99:\tlearn: 0.1923549\ttotal: 3.43s\tremaining: 0us\n",
      "Fold 2 Accuracy: 0.5667\n",
      "Learning rate set to 0.389666\n",
      "0:\tlearn: 3.8630443\ttotal: 39.4ms\tremaining: 3.9s\n",
      "99:\tlearn: 0.1963420\ttotal: 3.42s\tremaining: 0us\n",
      "Fold 3 Accuracy: 0.5911\n",
      "Mean Accuracy: 0.5760\n",
      "---context_10: 57.60%\n",
      "Learning rate set to 0.389518\n",
      "0:\tlearn: 3.8764993\ttotal: 37.4ms\tremaining: 3.7s\n",
      "99:\tlearn: 0.1887686\ttotal: 3.39s\tremaining: 0us\n",
      "Fold 1 Accuracy: 0.5481\n",
      "Learning rate set to 0.389518\n",
      "0:\tlearn: 3.8923489\ttotal: 41.3ms\tremaining: 4.09s\n",
      "99:\tlearn: 0.1835514\ttotal: 3.45s\tremaining: 0us\n",
      "Fold 2 Accuracy: 0.5630\n",
      "Learning rate set to 0.389666\n",
      "0:\tlearn: 3.9209436\ttotal: 39.6ms\tremaining: 3.92s\n",
      "99:\tlearn: 0.1892798\ttotal: 3.43s\tremaining: 0us\n",
      "Fold 3 Accuracy: 0.5130\n",
      "Mean Accuracy: 0.5414\n",
      "---context_11: 54.14%\n",
      "Learning rate set to 0.389518\n",
      "0:\tlearn: 3.9001469\ttotal: 37.6ms\tremaining: 3.72s\n",
      "99:\tlearn: 0.1888707\ttotal: 3.43s\tremaining: 0us\n",
      "Fold 1 Accuracy: 0.4815\n",
      "Learning rate set to 0.389518\n",
      "0:\tlearn: 3.9030005\ttotal: 40.3ms\tremaining: 3.99s\n",
      "99:\tlearn: 0.2016882\ttotal: 3.42s\tremaining: 0us\n",
      "Fold 2 Accuracy: 0.5037\n",
      "Learning rate set to 0.389666\n",
      "0:\tlearn: 3.9319851\ttotal: 40.5ms\tremaining: 4.01s\n",
      "99:\tlearn: 0.1998378\ttotal: 3.43s\tremaining: 0us\n",
      "Fold 3 Accuracy: 0.5316\n",
      "Mean Accuracy: 0.5056\n",
      "---context_12: 50.56%\n",
      "Learning rate set to 0.389518\n",
      "0:\tlearn: 3.9373976\ttotal: 39.6ms\tremaining: 3.92s\n",
      "99:\tlearn: 0.1789542\ttotal: 3.45s\tremaining: 0us\n",
      "Fold 1 Accuracy: 0.5148\n",
      "Learning rate set to 0.389518\n",
      "0:\tlearn: 3.9287943\ttotal: 38.9ms\tremaining: 3.85s\n",
      "99:\tlearn: 0.2034676\ttotal: 3.4s\tremaining: 0us\n",
      "Fold 2 Accuracy: 0.5111\n",
      "Learning rate set to 0.389666\n",
      "0:\tlearn: 3.9338162\ttotal: 42.8ms\tremaining: 4.23s\n",
      "99:\tlearn: 0.2301601\ttotal: 3.4s\tremaining: 0us\n",
      "Fold 3 Accuracy: 0.5353\n",
      "Mean Accuracy: 0.5204\n",
      "---context_13: 52.04%\n",
      "Learning rate set to 0.389518\n",
      "0:\tlearn: 3.9361710\ttotal: 41.6ms\tremaining: 4.12s\n",
      "99:\tlearn: 0.1970375\ttotal: 3.47s\tremaining: 0us\n",
      "Fold 1 Accuracy: 0.4889\n",
      "Learning rate set to 0.389518\n",
      "0:\tlearn: 3.8819619\ttotal: 40.6ms\tremaining: 4.02s\n",
      "99:\tlearn: 0.1875097\ttotal: 3.44s\tremaining: 0us\n",
      "Fold 2 Accuracy: 0.5222\n",
      "Learning rate set to 0.389666\n",
      "0:\tlearn: 3.9012736\ttotal: 41.6ms\tremaining: 4.12s\n",
      "99:\tlearn: 0.2045837\ttotal: 3.42s\tremaining: 0us\n",
      "Fold 3 Accuracy: 0.5279\n",
      "Mean Accuracy: 0.5130\n",
      "---context_14: 51.30%\n",
      "Learning rate set to 0.389518\n",
      "0:\tlearn: 3.9065544\ttotal: 41.3ms\tremaining: 4.09s\n",
      "99:\tlearn: 0.1881178\ttotal: 3.45s\tremaining: 0us\n",
      "Fold 1 Accuracy: 0.4630\n",
      "Learning rate set to 0.389518\n",
      "0:\tlearn: 3.9251417\ttotal: 42.3ms\tremaining: 4.19s\n",
      "99:\tlearn: 0.2223895\ttotal: 3.4s\tremaining: 0us\n",
      "Fold 2 Accuracy: 0.5111\n",
      "Learning rate set to 0.389666\n",
      "0:\tlearn: 3.8916314\ttotal: 38.5ms\tremaining: 3.81s\n",
      "99:\tlearn: 0.1964671\ttotal: 3.45s\tremaining: 0us\n",
      "Fold 3 Accuracy: 0.4944\n",
      "Mean Accuracy: 0.4895\n",
      "---context_15: 48.95%\n",
      "Learning rate set to 0.389518\n",
      "0:\tlearn: 3.9456051\ttotal: 41.1ms\tremaining: 4.06s\n",
      "99:\tlearn: 0.2035886\ttotal: 3.45s\tremaining: 0us\n",
      "Fold 1 Accuracy: 0.4704\n",
      "Learning rate set to 0.389518\n",
      "0:\tlearn: 3.8985381\ttotal: 41.3ms\tremaining: 4.09s\n",
      "99:\tlearn: 0.2112377\ttotal: 3.41s\tremaining: 0us\n",
      "Fold 2 Accuracy: 0.4556\n",
      "Learning rate set to 0.389666\n",
      "0:\tlearn: 3.9306550\ttotal: 37.3ms\tremaining: 3.69s\n",
      "99:\tlearn: 0.2023513\ttotal: 3.47s\tremaining: 0us\n",
      "Fold 3 Accuracy: 0.4981\n",
      "Mean Accuracy: 0.4747\n",
      "---context_16: 47.47%\n",
      "Learning rate set to 0.389518\n",
      "0:\tlearn: 3.9320555\ttotal: 40.5ms\tremaining: 4s\n",
      "99:\tlearn: 0.1887784\ttotal: 3.48s\tremaining: 0us\n",
      "Fold 1 Accuracy: 0.5037\n",
      "Learning rate set to 0.389518\n",
      "0:\tlearn: 3.9537387\ttotal: 41.9ms\tremaining: 4.15s\n",
      "99:\tlearn: 0.1955950\ttotal: 3.44s\tremaining: 0us\n",
      "Fold 2 Accuracy: 0.4667\n",
      "Learning rate set to 0.389666\n",
      "0:\tlearn: 3.9380832\ttotal: 40ms\tremaining: 3.96s\n",
      "99:\tlearn: 0.2041384\ttotal: 3.44s\tremaining: 0us\n",
      "Fold 3 Accuracy: 0.5428\n",
      "Mean Accuracy: 0.5044\n",
      "---context_17: 50.44%\n",
      "Learning rate set to 0.389518\n",
      "0:\tlearn: 3.9341251\ttotal: 40.7ms\tremaining: 4.02s\n",
      "99:\tlearn: 0.2196770\ttotal: 3.43s\tremaining: 0us\n",
      "Fold 1 Accuracy: 0.4333\n",
      "Learning rate set to 0.389518\n",
      "0:\tlearn: 3.9301251\ttotal: 42.8ms\tremaining: 4.24s\n",
      "99:\tlearn: 0.2056771\ttotal: 3.45s\tremaining: 0us\n",
      "Fold 2 Accuracy: 0.4296\n",
      "Learning rate set to 0.389666\n",
      "0:\tlearn: 3.9071859\ttotal: 39ms\tremaining: 3.86s\n",
      "99:\tlearn: 0.2159940\ttotal: 3.46s\tremaining: 0us\n",
      "Fold 3 Accuracy: 0.4349\n",
      "Mean Accuracy: 0.4326\n",
      "---context_18: 43.26%\n",
      "Learning rate set to 0.389518\n",
      "0:\tlearn: 3.9238585\ttotal: 38.2ms\tremaining: 3.78s\n",
      "99:\tlearn: 0.2262639\ttotal: 3.49s\tremaining: 0us\n",
      "Fold 1 Accuracy: 0.3556\n",
      "Learning rate set to 0.389518\n",
      "0:\tlearn: 3.9251788\ttotal: 38.8ms\tremaining: 3.84s\n",
      "99:\tlearn: 0.2246570\ttotal: 3.49s\tremaining: 0us\n",
      "Fold 2 Accuracy: 0.4000\n",
      "Learning rate set to 0.389666\n",
      "0:\tlearn: 3.9535785\ttotal: 41.6ms\tremaining: 4.12s\n",
      "99:\tlearn: 0.2287002\ttotal: 3.48s\tremaining: 0us\n",
      "Fold 3 Accuracy: 0.4201\n",
      "Mean Accuracy: 0.3919\n",
      "---context_19: 39.19%\n"
     ]
    }
   ],
   "source": [
    "for i in range(20):\n",
    "    t = evaluate_catboost_cv(trans_fs[i], uids, num_steps=100)\n",
    "    n = f'context_{i}'\n",
    "    print(f\"---{n}: {t * 100:.2f}%\")\n",
    "    res.append(t)\n",
    "    names.append(n)"
   ]
  },
  {
   "cell_type": "code",
   "execution_count": 16,
   "metadata": {},
   "outputs": [
    {
     "data": {
      "image/png": "[encoded data removed]",
      "text/plain": [
       "<Figure size 2000x300 with 1 Axes>"
      ]
     },
     "metadata": {},
     "output_type": "display_data"
    }
   ],
   "source": [
    "import matplotlib.pyplot as plt\n",
    "\n",
    "plt.rcParams[\"figure.figsize\"] = (20, 3)\n",
    "plt.plot(names, res)\n",
    "plt.xticks(rotation=45)  # Rotate x-axis labels by 45 degrees\n",
    "plt.title(\"Accuracy EEG user. 3 folds, 100 steps. FFT res: 32%\")\n",
    "plt.show()\n"
   ]
  },
  {
   "cell_type": "code",
   "execution_count": 15,
   "metadata": {},
   "outputs": [
    {
     "name": "stdout",
     "output_type": "stream",
     "text": [
      "Learning rate set to 0.389518\n",
      "0:\tlearn: 3.9466360\ttotal: 283ms\tremaining: 28s\n",
      "99:\tlearn: 0.3364066\ttotal: 22.7s\tremaining: 0us\n",
      "Fold 1 Accuracy: 0.3074\n",
      "Learning rate set to 0.389518\n",
      "0:\tlearn: 4.0073650\ttotal: 219ms\tremaining: 21.7s\n",
      "99:\tlearn: 0.3185762\ttotal: 22.7s\tremaining: 0us\n",
      "Fold 2 Accuracy: 0.2963\n",
      "Learning rate set to 0.389666\n",
      "0:\tlearn: 4.0150526\ttotal: 240ms\tremaining: 23.8s\n",
      "99:\tlearn: 0.3293293\ttotal: 22.6s\tremaining: 0us\n",
      "Fold 3 Accuracy: 0.3792\n",
      "Mean Accuracy: 0.3276\n"
     ]
    },
    {
     "data": {
      "text/plain": [
       "0.3276286199458442"
      ]
     },
     "execution_count": 15,
     "metadata": {},
     "output_type": "execute_result"
    }
   ],
   "source": [
    "evaluate_catboost_cv(fft_features, uids, num_steps=100)"
   ]
  },
  {
   "cell_type": "code",
   "execution_count": 61,
   "metadata": {},
   "outputs": [
    {
     "data": {
      "text/plain": [
       "(tensor(49), tensor(1))"
      ]
     },
     "execution_count": 61,
     "metadata": {},
     "output_type": "execute_result"
    }
   ],
   "source": [
    "a, b = torch.unique(uids, return_counts=True)\n",
    "a[48], b[48]"
   ]
  },
  {
   "cell_type": "code",
   "execution_count": 53,
   "metadata": {},
   "outputs": [
    {
     "name": "stdout",
     "output_type": "stream",
     "text": [
      "Learning rate set to 0.059408\n",
      "0:\tlearn: 4.1366577\ttotal: 272ms\tremaining: 4m 31s\n",
      "100:\tlearn: 1.9944168\ttotal: 25.8s\tremaining: 3m 49s\n",
      "200:\tlearn: 1.2009626\ttotal: 49.7s\tremaining: 3m 17s\n",
      "300:\tlearn: 0.7637089\ttotal: 1m 13s\tremaining: 2m 49s\n",
      "400:\tlearn: 0.5231189\ttotal: 1m 36s\tremaining: 2m 23s\n",
      "500:\tlearn: 0.3828653\ttotal: 1m 59s\tremaining: 1m 58s\n",
      "600:\tlearn: 0.2891234\ttotal: 2m 22s\tremaining: 1m 34s\n",
      "700:\tlearn: 0.2264297\ttotal: 2m 45s\tremaining: 1m 10s\n",
      "800:\tlearn: 0.1806322\ttotal: 3m 8s\tremaining: 46.8s\n",
      "900:\tlearn: 0.1504147\ttotal: 3m 31s\tremaining: 23.2s\n",
      "999:\tlearn: 0.1258671\ttotal: 3m 54s\tremaining: 0us\n"
     ]
    },
    {
     "data": {
      "text/plain": [
       "0.4691358024691358"
      ]
     },
     "execution_count": 53,
     "metadata": {},
     "output_type": "execute_result"
    }
   ],
   "source": [
    "evaluate_catboost(fft_features, uids, do_norm=False)"
   ]
  },
  {
   "cell_type": "code",
   "execution_count": 43,
   "metadata": {},
   "outputs": [
    {
     "name": "stdout",
     "output_type": "stream",
     "text": [
      "Learning rate set to 0.059408\n",
      "0:\tlearn: 4.1130955\ttotal: 44.4ms\tremaining: 44.3s\n",
      "100:\tlearn: 1.7234284\ttotal: 3.78s\tremaining: 33.6s\n",
      "200:\tlearn: 0.9945490\ttotal: 7.45s\tremaining: 29.6s\n",
      "300:\tlearn: 0.6711928\ttotal: 11s\tremaining: 25.6s\n",
      "400:\tlearn: 0.4703951\ttotal: 14.6s\tremaining: 21.8s\n",
      "500:\tlearn: 0.3417158\ttotal: 18.2s\tremaining: 18.1s\n",
      "600:\tlearn: 0.2610137\ttotal: 21.8s\tremaining: 14.5s\n",
      "700:\tlearn: 0.2091005\ttotal: 25.4s\tremaining: 10.8s\n",
      "800:\tlearn: 0.1689859\ttotal: 29s\tremaining: 7.2s\n",
      "900:\tlearn: 0.1410046\ttotal: 32.6s\tremaining: 3.58s\n",
      "999:\tlearn: 0.1202106\ttotal: 36.1s\tremaining: 0us\n"
     ]
    },
    {
     "data": {
      "text/plain": [
       "0.5555555555555556"
      ]
     },
     "execution_count": 43,
     "metadata": {},
     "output_type": "execute_result"
    }
   ],
   "source": [
    "evaluate_catboost(encoder_fs[0], uids, do_norm=False)"
   ]
  },
  {
   "cell_type": "code",
   "execution_count": 44,
   "metadata": {},
   "outputs": [
    {
     "name": "stdout",
     "output_type": "stream",
     "text": [
      "Learning rate set to 0.059408\n",
      "0:\tlearn: 4.1200765\ttotal: 37.7ms\tremaining: 37.6s\n",
      "100:\tlearn: 1.4506545\ttotal: 3.81s\tremaining: 34s\n",
      "200:\tlearn: 0.7663074\ttotal: 7.4s\tremaining: 29.4s\n",
      "300:\tlearn: 0.4854876\ttotal: 10.9s\tremaining: 25.3s\n",
      "400:\tlearn: 0.3444691\ttotal: 14.4s\tremaining: 21.5s\n",
      "500:\tlearn: 0.2509219\ttotal: 17.9s\tremaining: 17.9s\n",
      "600:\tlearn: 0.1881592\ttotal: 21.5s\tremaining: 14.3s\n",
      "700:\tlearn: 0.1472240\ttotal: 25s\tremaining: 10.7s\n",
      "800:\tlearn: 0.1211545\ttotal: 28.6s\tremaining: 7.1s\n",
      "900:\tlearn: 0.1012269\ttotal: 32.1s\tremaining: 3.53s\n",
      "999:\tlearn: 0.0864869\ttotal: 35.7s\tremaining: 0us\n"
     ]
    },
    {
     "data": {
      "text/plain": [
       "0.7098765432098766"
      ]
     },
     "execution_count": 44,
     "metadata": {},
     "output_type": "execute_result"
    }
   ],
   "source": [
    "evaluate_catboost(encoder_fs[3], uids, do_norm=False)"
   ]
  },
  {
   "cell_type": "code",
   "execution_count": 45,
   "metadata": {},
   "outputs": [
    {
     "name": "stdout",
     "output_type": "stream",
     "text": [
      "Learning rate set to 0.059408\n",
      "0:\tlearn: 4.1322074\ttotal: 40.3ms\tremaining: 40.3s\n",
      "100:\tlearn: 1.6698134\ttotal: 3.88s\tremaining: 34.6s\n",
      "200:\tlearn: 0.9535362\ttotal: 7.47s\tremaining: 29.7s\n",
      "300:\tlearn: 0.6161400\ttotal: 11s\tremaining: 25.5s\n",
      "400:\tlearn: 0.4236489\ttotal: 14.5s\tremaining: 21.7s\n",
      "500:\tlearn: 0.3060539\ttotal: 18s\tremaining: 17.9s\n",
      "600:\tlearn: 0.2316673\ttotal: 21.5s\tremaining: 14.3s\n",
      "700:\tlearn: 0.1822538\ttotal: 25s\tremaining: 10.7s\n",
      "800:\tlearn: 0.1487425\ttotal: 28.5s\tremaining: 7.09s\n",
      "900:\tlearn: 0.1236747\ttotal: 32.2s\tremaining: 3.53s\n",
      "999:\tlearn: 0.1044733\ttotal: 35.8s\tremaining: 0us\n"
     ]
    },
    {
     "data": {
      "text/plain": [
       "0.5740740740740741"
      ]
     },
     "execution_count": 45,
     "metadata": {},
     "output_type": "execute_result"
    }
   ],
   "source": [
    "evaluate_catboost(encoder_fs[5], uids, do_norm=False)"
   ]
  },
  {
   "cell_type": "code",
   "execution_count": 34,
   "metadata": {},
   "outputs": [
    {
     "name": "stdout",
     "output_type": "stream",
     "text": [
      "Learning rate set to 0.059408\n",
      "0:\tlearn: 4.1266374\ttotal: 39.7ms\tremaining: 39.7s\n",
      "100:\tlearn: 1.6123533\ttotal: 3.75s\tremaining: 33.3s\n",
      "200:\tlearn: 0.8217438\ttotal: 7.33s\tremaining: 29.1s\n",
      "300:\tlearn: 0.5004284\ttotal: 10.9s\tremaining: 25.3s\n",
      "400:\tlearn: 0.3380553\ttotal: 14.4s\tremaining: 21.5s\n",
      "500:\tlearn: 0.2381825\ttotal: 17.9s\tremaining: 17.8s\n",
      "600:\tlearn: 0.1813905\ttotal: 21.3s\tremaining: 14.2s\n",
      "700:\tlearn: 0.1434527\ttotal: 24.8s\tremaining: 10.6s\n",
      "800:\tlearn: 0.1164212\ttotal: 28.2s\tremaining: 7.02s\n",
      "900:\tlearn: 0.0969009\ttotal: 31.7s\tremaining: 3.48s\n",
      "999:\tlearn: 0.0831354\ttotal: 35.2s\tremaining: 0us\n"
     ]
    },
    {
     "data": {
      "text/plain": [
       "0.7530864197530864"
      ]
     },
     "execution_count": 34,
     "metadata": {},
     "output_type": "execute_result"
    }
   ],
   "source": [
    "evaluate_catboost(trans_fs[5], uids, do_norm=False)"
   ]
  },
  {
   "cell_type": "code",
   "execution_count": 35,
   "metadata": {},
   "outputs": [
    {
     "name": "stdout",
     "output_type": "stream",
     "text": [
      "Learning rate set to 0.059408\n",
      "0:\tlearn: 4.1321068\ttotal: 36.9ms\tremaining: 36.8s\n",
      "100:\tlearn: 1.6409942\ttotal: 3.83s\tremaining: 34s\n",
      "200:\tlearn: 0.8665868\ttotal: 7.42s\tremaining: 29.5s\n",
      "300:\tlearn: 0.5233054\ttotal: 10.9s\tremaining: 25.3s\n",
      "400:\tlearn: 0.3478966\ttotal: 14.3s\tremaining: 21.4s\n",
      "500:\tlearn: 0.2495405\ttotal: 17.8s\tremaining: 17.7s\n",
      "600:\tlearn: 0.1892969\ttotal: 21.3s\tremaining: 14.1s\n",
      "700:\tlearn: 0.1481863\ttotal: 24.7s\tremaining: 10.6s\n",
      "800:\tlearn: 0.1224821\ttotal: 28.2s\tremaining: 7s\n",
      "900:\tlearn: 0.1014412\ttotal: 31.7s\tremaining: 3.49s\n",
      "999:\tlearn: 0.0869716\ttotal: 35.3s\tremaining: 0us\n"
     ]
    },
    {
     "data": {
      "text/plain": [
       "0.6728395061728395"
      ]
     },
     "execution_count": 35,
     "metadata": {},
     "output_type": "execute_result"
    }
   ],
   "source": [
    "evaluate_catboost(trans_fs[10], uids, do_norm=False)"
   ]
  },
  {
   "cell_type": "code",
   "execution_count": 36,
   "metadata": {},
   "outputs": [
    {
     "name": "stdout",
     "output_type": "stream",
     "text": [
      "Learning rate set to 0.059408\n",
      "0:\tlearn: 4.1297057\ttotal: 41ms\tremaining: 41s\n",
      "100:\tlearn: 1.8006204\ttotal: 3.83s\tremaining: 34.1s\n",
      "200:\tlearn: 0.9623844\ttotal: 7.43s\tremaining: 29.5s\n",
      "300:\tlearn: 0.5818727\ttotal: 11s\tremaining: 25.4s\n",
      "400:\tlearn: 0.4015065\ttotal: 14.4s\tremaining: 21.5s\n",
      "500:\tlearn: 0.2834279\ttotal: 17.9s\tremaining: 17.8s\n",
      "600:\tlearn: 0.2140688\ttotal: 21.4s\tremaining: 14.2s\n",
      "700:\tlearn: 0.1691048\ttotal: 24.9s\tremaining: 10.6s\n",
      "800:\tlearn: 0.1388342\ttotal: 28.4s\tremaining: 7.04s\n",
      "900:\tlearn: 0.1146089\ttotal: 31.8s\tremaining: 3.5s\n",
      "999:\tlearn: 0.0973808\ttotal: 35.3s\tremaining: 0us\n"
     ]
    },
    {
     "data": {
      "text/plain": [
       "0.6358024691358025"
      ]
     },
     "execution_count": 36,
     "metadata": {},
     "output_type": "execute_result"
    }
   ],
   "source": [
    "evaluate_catboost(trans_fs[15], uids, do_norm=False)"
   ]
  },
  {
   "cell_type": "code",
   "execution_count": 37,
   "metadata": {},
   "outputs": [
    {
     "name": "stdout",
     "output_type": "stream",
     "text": [
      "Learning rate set to 0.059408\n",
      "0:\tlearn: 4.1453579\ttotal: 43.2ms\tremaining: 43.2s\n",
      "100:\tlearn: 2.0049065\ttotal: 3.87s\tremaining: 34.5s\n",
      "200:\tlearn: 1.0883414\ttotal: 7.58s\tremaining: 30.1s\n",
      "300:\tlearn: 0.6455502\ttotal: 11.2s\tremaining: 26s\n",
      "400:\tlearn: 0.4332228\ttotal: 14.7s\tremaining: 21.9s\n",
      "500:\tlearn: 0.2992699\ttotal: 18.3s\tremaining: 18.2s\n",
      "600:\tlearn: 0.2229491\ttotal: 21.8s\tremaining: 14.5s\n",
      "700:\tlearn: 0.1719613\ttotal: 25.3s\tremaining: 10.8s\n",
      "800:\tlearn: 0.1382021\ttotal: 28.9s\tremaining: 7.19s\n",
      "900:\tlearn: 0.1145064\ttotal: 32.5s\tremaining: 3.57s\n",
      "999:\tlearn: 0.0966409\ttotal: 36s\tremaining: 0us\n"
     ]
    },
    {
     "data": {
      "text/plain": [
       "0.5123456790123457"
      ]
     },
     "execution_count": 37,
     "metadata": {},
     "output_type": "execute_result"
    }
   ],
   "source": [
    "evaluate_catboost(trans_fs[19], uids, do_norm=False)"
   ]
  },
  {
   "cell_type": "code",
   "execution_count": 22,
   "metadata": {},
   "outputs": [],
   "source": [
    "from sklearn.linear_model import LogisticRegression\n",
    "from sklearn.metrics import accuracy_score\n",
    "from sklearn.model_selection import cross_val_score\n",
    "import torch\n",
    "import time\n",
    "import numpy as np\n",
    "from catboost import CatBoostClassifier, Pool\n",
    "from sklearn.metrics import accuracy_score\n",
    "from sklearn.model_selection import train_test_split\n",
    "\n",
    "def evaluate_catboost(X: torch.Tensor, y: torch.Tensor, do_norm):\n",
    "    if do_norm:\n",
    "        X = X / torch.norm(X, dim=1, keepdim=True)\n",
    "    X_np = X.numpy()\n",
    "    y_np = y.numpy()\n",
    "\n",
    "    X_train, X_val, y_train, y_val = train_test_split(X_np, y_np, test_size=0.2, random_state=42)\n",
    "\n",
    "    train_pool = Pool(data=X_train, label=y_train)\n",
    "    val_pool = Pool(data=X_val, label=y_val)\n",
    "\n",
    "    model = CatBoostClassifier(task_type='GPU', iterations=1000, verbose=100)\n",
    "\n",
    "    model.fit(train_pool, early_stopping_rounds=50)\n",
    "\n",
    "    y_val_pred = model.predict(val_pool)\n",
    "    acc = accuracy_score(y_val, y_val_pred)\n",
    "    return acc"
   ]
  },
  {
   "cell_type": "code",
   "execution_count": null,
   "metadata": {},
   "outputs": [],
   "source": []
  },
  {
   "cell_type": "code",
   "execution_count": 23,
   "metadata": {},
   "outputs": [
    {
     "name": "stdout",
     "output_type": "stream",
     "text": [
      "Learning rate set to 0.059408\n",
      "0:\tlearn: 4.1273355\ttotal: 39.5ms\tremaining: 39.5s\n",
      "100:\tlearn: 1.9935668\ttotal: 3.91s\tremaining: 34.8s\n",
      "200:\tlearn: 1.0711482\ttotal: 7.6s\tremaining: 30.2s\n",
      "300:\tlearn: 0.6440745\ttotal: 11.2s\tremaining: 26s\n",
      "400:\tlearn: 0.4120770\ttotal: 14.8s\tremaining: 22.1s\n",
      "500:\tlearn: 0.2861988\ttotal: 18.4s\tremaining: 18.3s\n",
      "600:\tlearn: 0.2097623\ttotal: 21.9s\tremaining: 14.6s\n",
      "700:\tlearn: 0.1630517\ttotal: 25.5s\tremaining: 10.9s\n",
      "800:\tlearn: 0.1313118\ttotal: 29.1s\tremaining: 7.22s\n",
      "900:\tlearn: 0.1084704\ttotal: 32.6s\tremaining: 3.59s\n",
      "999:\tlearn: 0.0926046\ttotal: 36.2s\tremaining: 0us\n"
     ]
    },
    {
     "data": {
      "text/plain": [
       "0.5308641975308642"
      ]
     },
     "execution_count": 23,
     "metadata": {},
     "output_type": "execute_result"
    }
   ],
   "source": [
    "evaluate_catboost(vecs, uids, do_norm=True)"
   ]
  },
  {
   "cell_type": "code",
   "execution_count": 24,
   "metadata": {},
   "outputs": [
    {
     "name": "stdout",
     "output_type": "stream",
     "text": [
      "Learning rate set to 0.059408\n",
      "0:\tlearn: 4.1246474\ttotal: 37.9ms\tremaining: 37.8s\n"
     ]
    },
    {
     "name": "stdout",
     "output_type": "stream",
     "text": [
      "100:\tlearn: 2.0158409\ttotal: 3.78s\tremaining: 33.7s\n",
      "200:\tlearn: 1.0926598\ttotal: 7.4s\tremaining: 29.4s\n",
      "300:\tlearn: 0.6662593\ttotal: 10.9s\tremaining: 25.4s\n",
      "400:\tlearn: 0.4426410\ttotal: 14.4s\tremaining: 21.5s\n",
      "500:\tlearn: 0.3113039\ttotal: 17.9s\tremaining: 17.8s\n",
      "600:\tlearn: 0.2289076\ttotal: 21.4s\tremaining: 14.2s\n",
      "700:\tlearn: 0.1765414\ttotal: 24.9s\tremaining: 10.6s\n",
      "800:\tlearn: 0.1414910\ttotal: 28.4s\tremaining: 7.06s\n",
      "900:\tlearn: 0.1165671\ttotal: 31.9s\tremaining: 3.5s\n",
      "999:\tlearn: 0.0994802\ttotal: 35.3s\tremaining: 0us\n"
     ]
    },
    {
     "data": {
      "text/plain": [
       "0.5308641975308642"
      ]
     },
     "execution_count": 24,
     "metadata": {},
     "output_type": "execute_result"
    }
   ],
   "source": [
    "evaluate_catboost(vecs, uids, do_norm=False)"
   ]
  },
  {
   "cell_type": "code",
   "execution_count": 25,
   "metadata": {},
   "outputs": [
    {
     "name": "stdout",
     "output_type": "stream",
     "text": [
      "Learning rate set to 0.059408\n",
      "0:\tlearn: 4.1025383\ttotal: 42.2ms\tremaining: 42.2s\n",
      "100:\tlearn: 1.7217166\ttotal: 3.83s\tremaining: 34.1s\n",
      "200:\tlearn: 0.9948503\ttotal: 7.39s\tremaining: 29.4s\n",
      "300:\tlearn: 0.6540145\ttotal: 10.8s\tremaining: 25.1s\n",
      "400:\tlearn: 0.4462576\ttotal: 14.2s\tremaining: 21.3s\n",
      "500:\tlearn: 0.3210347\ttotal: 17.7s\tremaining: 17.6s\n",
      "600:\tlearn: 0.2444632\ttotal: 21.1s\tremaining: 14s\n",
      "700:\tlearn: 0.1915031\ttotal: 24.5s\tremaining: 10.5s\n",
      "800:\tlearn: 0.1537082\ttotal: 28s\tremaining: 6.95s\n",
      "900:\tlearn: 0.1267302\ttotal: 31.5s\tremaining: 3.46s\n",
      "999:\tlearn: 0.1074604\ttotal: 34.9s\tremaining: 0us\n"
     ]
    },
    {
     "data": {
      "text/plain": [
       "0.6358024691358025"
      ]
     },
     "execution_count": 25,
     "metadata": {},
     "output_type": "execute_result"
    }
   ],
   "source": [
    "evaluate_catboost(med, uids, do_norm=False)"
   ]
  },
  {
   "cell_type": "code",
   "execution_count": 26,
   "metadata": {},
   "outputs": [
    {
     "name": "stdout",
     "output_type": "stream",
     "text": [
      "Learning rate set to 0.059408\n",
      "0:\tlearn: 4.1154985\ttotal: 38.8ms\tremaining: 38.8s\n",
      "100:\tlearn: 1.8816662\ttotal: 3.77s\tremaining: 33.6s\n",
      "200:\tlearn: 1.1348455\ttotal: 7.34s\tremaining: 29.2s\n",
      "300:\tlearn: 0.7561125\ttotal: 10.8s\tremaining: 25.2s\n",
      "400:\tlearn: 0.5156052\ttotal: 14.3s\tremaining: 21.4s\n",
      "500:\tlearn: 0.3635849\ttotal: 17.8s\tremaining: 17.7s\n",
      "600:\tlearn: 0.2744522\ttotal: 21.3s\tremaining: 14.1s\n",
      "700:\tlearn: 0.2133567\ttotal: 24.7s\tremaining: 10.6s\n",
      "800:\tlearn: 0.1703199\ttotal: 28.2s\tremaining: 7.01s\n",
      "900:\tlearn: 0.1400361\ttotal: 31.7s\tremaining: 3.48s\n",
      "999:\tlearn: 0.1184204\ttotal: 35.1s\tremaining: 0us\n"
     ]
    },
    {
     "data": {
      "text/plain": [
       "0.5555555555555556"
      ]
     },
     "execution_count": 26,
     "metadata": {},
     "output_type": "execute_result"
    }
   ],
   "source": [
    "evaluate_catboost(med, uids, do_norm=True)"
   ]
  }
 ],
 "metadata": {
  "kernelspec": {
   "display_name": "Python 3",
   "language": "python",
   "name": "python3"
  },
  "language_info": {
   "codemirror_mode": {
    "name": "ipython",
    "version": 3
   },
   "file_extension": ".py",
   "mimetype": "text/x-python",
   "name": "python",
   "nbconvert_exporter": "python",
   "pygments_lexer": "ipython3",
   "version": "3.11.10"
  },
  "orig_nbformat": 4
 },
 "nbformat": 4,
 "nbformat_minor": 2
}
