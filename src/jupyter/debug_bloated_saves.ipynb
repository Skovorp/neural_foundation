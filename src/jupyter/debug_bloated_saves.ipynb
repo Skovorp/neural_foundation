{
 "cells": [
  {
   "cell_type": "code",
   "execution_count": 1,
   "metadata": {},
   "outputs": [],
   "source": [
    "import os\n",
    "os.chdir(os.path.join(os.getcwd(), '..'))"
   ]
  },
  {
   "cell_type": "code",
   "execution_count": 9,
   "metadata": {},
   "outputs": [],
   "source": [
    "from utils.data_utils import load_recording\n",
    "import torch\n",
    "\n",
    "raw, _, _ = load_recording('/Users/ksc/Desktop/Нейротемка/code_local/Уточнение психофизиологических состояний 2023/3_Усталость и сильная усталость/data/1.12_Алена_session_eeg.h5')\n",
    "raw = torch.tensor(raw)"
   ]
  },
  {
   "cell_type": "code",
   "execution_count": 11,
   "metadata": {},
   "outputs": [
    {
     "data": {
      "text/plain": [
       "4"
      ]
     },
     "execution_count": 11,
     "metadata": {},
     "output_type": "execute_result"
    }
   ],
   "source": [
    "raw.element_size()"
   ]
  },
  {
   "cell_type": "code",
   "execution_count": 14,
   "metadata": {},
   "outputs": [
    {
     "data": {
      "text/plain": [
       "25.624576"
      ]
     },
     "execution_count": 14,
     "metadata": {},
     "output_type": "execute_result"
    }
   ],
   "source": [
    "raw.element_size() * raw.nelement() / 10**6 "
   ]
  },
  {
   "cell_type": "code",
   "execution_count": 22,
   "metadata": {},
   "outputs": [],
   "source": [
    "torch.save(raw2[:, :73800], 'hui4.pt')"
   ]
  },
  {
   "cell_type": "code",
   "execution_count": 20,
   "metadata": {},
   "outputs": [],
   "source": [
    "raw2 = raw / (raw ** 2).sum()"
   ]
  },
  {
   "cell_type": "code",
   "execution_count": 21,
   "metadata": {},
   "outputs": [
    {
     "data": {
      "text/plain": [
       "tensor([[5.5216e-07, 5.3138e-07, 5.0326e-07,  ..., 5.8418e-07, 5.8765e-07,\n",
       "         5.8484e-07],\n",
       "        [5.3342e-07, 5.0122e-07, 4.4618e-07,  ..., 7.7028e-07, 7.8301e-07,\n",
       "         7.7599e-07],\n",
       "        [1.2586e-07, 1.2372e-07, 1.2073e-07,  ..., 7.4287e-07, 7.5240e-07,\n",
       "         7.4611e-07],\n",
       "        [6.2915e-07, 5.8482e-07, 5.3123e-07,  ..., 7.6231e-07, 7.6916e-07,\n",
       "         7.6378e-07]])"
      ]
     },
     "execution_count": 21,
     "metadata": {},
     "output_type": "execute_result"
    }
   ],
   "source": []
  },
  {
   "cell_type": "code",
   "execution_count": 23,
   "metadata": {},
   "outputs": [
    {
     "name": "stderr",
     "output_type": "stream",
     "text": [
      "/var/folders/z2/jk8j2nn905v4_76cbzdgkrxm0000gn/T/ipykernel_25394/3429847638.py:3: FutureWarning: You are using `torch.load` with `weights_only=False` (the current default value), which uses the default pickle module implicitly. It is possible to construct malicious pickle data which will execute arbitrary code during unpickling (See https://github.com/pytorch/pytorch/blob/main/SECURITY.md#untrusted-models for more details). In a future release, the default value for `weights_only` will be flipped to `True`. This limits the functions that could be executed during unpickling. Arbitrary objects will no longer be allowed to be loaded via this mode unless they are explicitly allowlisted by the user via `torch.serialization.add_safe_globals`. We recommend you start setting `weights_only=True` for any use case where you don't have full control of the loaded file. Please open an issue on GitHub for any issues related to this experimental feature.\n",
      "  x = torch.load(t)\n"
     ]
    },
    {
     "data": {
      "text/plain": [
       "tensor([[ 9.9082e-06,  8.7501e-06,  5.5246e-06,  ..., -1.5908e-05,\n",
       "         -2.6547e-07,  1.4085e-05],\n",
       "        [ 5.9038e-06,  6.5710e-06,  5.6879e-06,  ..., -1.1325e-06,\n",
       "          1.6732e-06,  2.0310e-06],\n",
       "        [-5.0779e-06, -1.6724e-06,  6.9430e-07,  ..., -6.7873e-06,\n",
       "         -2.0821e-06,  2.5417e-06],\n",
       "        [-3.2673e-06, -4.1184e-06, -5.5750e-06,  ..., -1.3657e-05,\n",
       "         -9.3403e-06, -2.4297e-06]], dtype=torch.float64)"
      ]
     },
     "execution_count": 23,
     "metadata": {},
     "output_type": "execute_result"
    }
   ],
   "source": [
    "t = '/Users/ksc/Desktop/Нейротемка/code_local/Уточнение психофизиологических состояний 2023/3_Усталость и сильная усталость/cache/1.pt'\n",
    "\n",
    "x = torch.load(t)\n",
    "x"
   ]
  }
 ],
 "metadata": {
  "kernelspec": {
   "display_name": "Python 3",
   "language": "python",
   "name": "python3"
  },
  "language_info": {
   "codemirror_mode": {
    "name": "ipython",
    "version": 3
   },
   "file_extension": ".py",
   "mimetype": "text/x-python",
   "name": "python",
   "nbconvert_exporter": "python",
   "pygments_lexer": "ipython3",
   "version": "3.10.4"
  },
  "orig_nbformat": 4
 },
 "nbformat": 4,
 "nbformat_minor": 2
}
