{
 "cells": [
  {
   "cell_type": "code",
   "execution_count": 2,
   "metadata": {},
   "outputs": [
    {
     "name": "stdout",
     "output_type": "stream",
     "text": [
      "torch.Size([4, 1693216])\n",
      "tensor([[0.1111, 0.1118, 0.1118,  ..., 0.2179, 0.1334, 0.4000],\n",
      "        [0.0760, 0.0769, 0.0768,  ..., 0.1184, 0.0548, 0.2657],\n",
      "        [0.0395, 0.0405, 0.0400,  ..., 0.4000, 0.4000, 0.4000],\n",
      "        [0.0685, 0.0702, 0.0696,  ..., 0.3511, 0.1597, 0.4000]]) 100\n",
      "torch.Size([4, 1693216])\n",
      "torch.Size([3, 4, 1693216])\n"
     ]
    }
   ],
   "source": [
    "from dataset import EEGDataset\n",
    "\n",
    "dataset = EEGDataset('../data', limit=100, chunk_length=100, chunk_overlap=10, num_tokens=30)\n",
    "print(dataset[0], len(dataset))\n",
    "\n",
    "sample = dataset[0].unsqueeze(0).tile((3, 1, 1))\n",
    "print(sample.shape)"
   ]
  },
  {
   "cell_type": "code",
   "execution_count": 3,
   "metadata": {},
   "outputs": [
    {
     "data": {
      "text/plain": [
       "torch.Size([3, 4, 1693216, 1])"
      ]
     },
     "execution_count": 3,
     "metadata": {},
     "output_type": "execute_result"
    }
   ],
   "source": [
    "sample = sample.unsqueeze(3)\n",
    "sample.shape"
   ]
  },
  {
   "cell_type": "code",
   "execution_count": 5,
   "metadata": {},
   "outputs": [
    {
     "data": {
      "text/plain": [
       "torch.Size([3, 2000, 3386])"
      ]
     },
     "execution_count": 5,
     "metadata": {},
     "output_type": "execute_result"
    }
   ],
   "source": [
    "import torch \n",
    "\n",
    "torch.nn.functional.unfold(sample, (250 * 2, 1), stride=(250 * 2, 1)).shape"
   ]
  },
  {
   "cell_type": "code",
   "execution_count": 33,
   "metadata": {},
   "outputs": [
    {
     "data": {
      "text/plain": [
       "tensor([[[[ 0.,  1.,  2.,  3.],\n",
       "          [12., 13., 14., 15.],\n",
       "          [24., 25., 26., 27.],\n",
       "          [36., 37., 38., 39.]],\n",
       "\n",
       "         [[ 4.,  5.,  6.,  7.],\n",
       "          [16., 17., 18., 19.],\n",
       "          [28., 29., 30., 31.],\n",
       "          [40., 41., 42., 43.]],\n",
       "\n",
       "         [[ 8.,  9., 10., 11.],\n",
       "          [20., 21., 22., 23.],\n",
       "          [32., 33., 34., 35.],\n",
       "          [44., 45., 46., 47.]]]])"
      ]
     },
     "execution_count": 33,
     "metadata": {},
     "output_type": "execute_result"
    }
   ],
   "source": [
    "t = torch.arange(48, dtype=torch.float).reshape(1, 4, 12, 1)\n",
    "torch.nn.functional.unfold(t, (4, 1), stride=(4, 1)).reshape(1, 4, 4, 3).transpose(1, 3).transpose(2, 3)"
   ]
  },
  {
   "cell_type": "code",
   "execution_count": 29,
   "metadata": {},
   "outputs": [
    {
     "data": {
      "text/plain": [
       "tensor([[ 0.,  1.,  2.,  3.,  4.,  5.,  6.,  7.,  8.,  9., 10., 11.],\n",
       "        [12., 13., 14., 15., 16., 17., 18., 19., 20., 21., 22., 23.],\n",
       "        [24., 25., 26., 27., 28., 29., 30., 31., 32., 33., 34., 35.],\n",
       "        [36., 37., 38., 39., 40., 41., 42., 43., 44., 45., 46., 47.]])"
      ]
     },
     "execution_count": 29,
     "metadata": {},
     "output_type": "execute_result"
    }
   ],
   "source": [
    "t[0, :, :, 0]"
   ]
  },
  {
   "cell_type": "code",
   "execution_count": 52,
   "metadata": {},
   "outputs": [
    {
     "name": "stdout",
     "output_type": "stream",
     "text": [
      "torch.Size([4, 1693216])\n",
      "torch.Size([4, 500]) torch.Size([4, 500])\n"
     ]
    },
    {
     "data": {
      "text/plain": [
       "torch.Size([1, 4, 500, 3386])"
      ]
     },
     "execution_count": 52,
     "metadata": {},
     "output_type": "execute_result"
    }
   ],
   "source": [
    "def turn_into_patches(data, chunk_length, chunk_stride):\n",
    "    assert len(data.shape) == 2 and data.shape[0] == 4, f'expected 2d tensor of shape (4, *), got {data.shape}'\n",
    "    data_prep = data.unsqueeze(0).unsqueeze(3) # (1, 4, long, 1)\n",
    "    chunked = torch.nn.functional.unfold(data_prep, kernel_size=(chunk_length, 1), stride=(chunk_stride, 1)) # (1, 4 * chunk_length, ~long // chunk_stride)\n",
    "    assert len(chunked.shape) == 3 and chunked.shape[0] == 1 and chunked.shape[1] == 4 * chunk_length, f'expected (1, 4 * chunk_length, ~long // chunk_stride) got {chunked.shape}'\n",
    "    chunked = chunked.reshape(1, 4, chunk_length, -1)\n",
    "    print(chunked[0, :, :, 0].shape, data[:, :chunk_length].shape)\n",
    "    assert (chunked[0, :, :, 0] == data[:, :chunk_length]).all(), \"first chunk didn't match the beginning of data\"\n",
    "    return chunked\n",
    "    \n",
    "turn_into_patches(dataset[0], 500, 500).shape"
   ]
  },
  {
   "cell_type": "code",
   "execution_count": null,
   "metadata": {},
   "outputs": [],
   "source": []
  },
  {
   "cell_type": "code",
   "execution_count": 51,
   "metadata": {},
   "outputs": [
    {
     "data": {
      "text/plain": [
       "3386.432"
      ]
     },
     "execution_count": 51,
     "metadata": {},
     "output_type": "execute_result"
    }
   ],
   "source": [
    "1693216 / 500"
   ]
  },
  {
   "cell_type": "code",
   "execution_count": 43,
   "metadata": {},
   "outputs": [
    {
     "name": "stdout",
     "output_type": "stream",
     "text": [
      "torch.Size([4, 1693216])\n"
     ]
    },
    {
     "data": {
      "text/plain": [
       "tensor([[0.1111, 0.1118, 0.1118, 0.1118, 0.1123, 0.1113, 0.1118, 0.1117],\n",
       "        [0.0760, 0.0769, 0.0768, 0.0765, 0.0769, 0.0762, 0.0769, 0.0768],\n",
       "        [0.0395, 0.0405, 0.0400, 0.0391, 0.0394, 0.0397, 0.0409, 0.0402],\n",
       "        [0.0685, 0.0702, 0.0696, 0.0680, 0.0683, 0.0685, 0.0702, 0.0696]])"
      ]
     },
     "execution_count": 43,
     "metadata": {},
     "output_type": "execute_result"
    }
   ],
   "source": [
    "dataset[0][:, :8]"
   ]
  },
  {
   "cell_type": "code",
   "execution_count": 4,
   "metadata": {},
   "outputs": [],
   "source": [
    "from transformers import GPT2Config, GPT2Model\n",
    "\n",
    "configuration = GPT2Config()\n",
    "model = GPT2Model(configuration)"
   ]
  },
  {
   "cell_type": "code",
   "execution_count": 20,
   "metadata": {},
   "outputs": [
    {
     "data": {
      "text/plain": [
       "odict_keys(['last_hidden_state', 'past_key_values'])"
      ]
     },
     "execution_count": 20,
     "metadata": {},
     "output_type": "execute_result"
    }
   ],
   "source": [
    "import torch\n",
    "\n",
    "inp = torch.rand(8, 10, 768)\n",
    "model.forward(inputs_embeds=inp, return_dict=True).last_hidden_state"
   ]
  }
 ],
 "metadata": {
  "kernelspec": {
   "display_name": "Python 3",
   "language": "python",
   "name": "python3"
  },
  "language_info": {
   "codemirror_mode": {
    "name": "ipython",
    "version": 3
   },
   "file_extension": ".py",
   "mimetype": "text/x-python",
   "name": "python",
   "nbconvert_exporter": "python",
   "pygments_lexer": "ipython3",
   "version": "3.10.12"
  },
  "orig_nbformat": 4
 },
 "nbformat": 4,
 "nbformat_minor": 2
}
